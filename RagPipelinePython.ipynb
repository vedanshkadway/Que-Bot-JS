{
  "nbformat": 4,
  "nbformat_minor": 0,
  "metadata": {
    "colab": {
      "provenance": []
    },
    "kernelspec": {
      "name": "python3",
      "display_name": "Python 3"
    },
    "language_info": {
      "name": "python"
    },
    "widgets": {
      "application/vnd.jupyter.widget-state+json": {
        "07ad3234912944169c1ba17a063324c7": {
          "model_module": "@jupyter-widgets/controls",
          "model_name": "HBoxModel",
          "model_module_version": "1.5.0",
          "state": {
            "_dom_classes": [],
            "_model_module": "@jupyter-widgets/controls",
            "_model_module_version": "1.5.0",
            "_model_name": "HBoxModel",
            "_view_count": null,
            "_view_module": "@jupyter-widgets/controls",
            "_view_module_version": "1.5.0",
            "_view_name": "HBoxView",
            "box_style": "",
            "children": [
              "IPY_MODEL_796ae86956f24fabbecf5af7e2e58dbf",
              "IPY_MODEL_3a6b8593ca834f64827a830084939f96",
              "IPY_MODEL_04877bf92f12488ab5330ad80f04cb6f"
            ],
            "layout": "IPY_MODEL_84022c0f008f4677845c9ed83dd0200a"
          }
        },
        "796ae86956f24fabbecf5af7e2e58dbf": {
          "model_module": "@jupyter-widgets/controls",
          "model_name": "HTMLModel",
          "model_module_version": "1.5.0",
          "state": {
            "_dom_classes": [],
            "_model_module": "@jupyter-widgets/controls",
            "_model_module_version": "1.5.0",
            "_model_name": "HTMLModel",
            "_view_count": null,
            "_view_module": "@jupyter-widgets/controls",
            "_view_module_version": "1.5.0",
            "_view_name": "HTMLView",
            "description": "",
            "description_tooltip": null,
            "layout": "IPY_MODEL_74a43dab55c940ea9e7887c8319a9ea8",
            "placeholder": "​",
            "style": "IPY_MODEL_0ab0a6980d8b427896cb4b20b7b20325",
            "value": "Batches: 100%"
          }
        },
        "3a6b8593ca834f64827a830084939f96": {
          "model_module": "@jupyter-widgets/controls",
          "model_name": "FloatProgressModel",
          "model_module_version": "1.5.0",
          "state": {
            "_dom_classes": [],
            "_model_module": "@jupyter-widgets/controls",
            "_model_module_version": "1.5.0",
            "_model_name": "FloatProgressModel",
            "_view_count": null,
            "_view_module": "@jupyter-widgets/controls",
            "_view_module_version": "1.5.0",
            "_view_name": "ProgressView",
            "bar_style": "success",
            "description": "",
            "description_tooltip": null,
            "layout": "IPY_MODEL_043201351e644c1a9ad02db927409c91",
            "max": 1,
            "min": 0,
            "orientation": "horizontal",
            "style": "IPY_MODEL_167f728129aa4f9597358257640801ff",
            "value": 1
          }
        },
        "04877bf92f12488ab5330ad80f04cb6f": {
          "model_module": "@jupyter-widgets/controls",
          "model_name": "HTMLModel",
          "model_module_version": "1.5.0",
          "state": {
            "_dom_classes": [],
            "_model_module": "@jupyter-widgets/controls",
            "_model_module_version": "1.5.0",
            "_model_name": "HTMLModel",
            "_view_count": null,
            "_view_module": "@jupyter-widgets/controls",
            "_view_module_version": "1.5.0",
            "_view_name": "HTMLView",
            "description": "",
            "description_tooltip": null,
            "layout": "IPY_MODEL_47b5755c87be4c9aba3f68c0f941e4d7",
            "placeholder": "​",
            "style": "IPY_MODEL_66bdbf4ce38e4c308339ecca5d5fb909",
            "value": " 1/1 [00:04&lt;00:00,  4.32s/it]"
          }
        },
        "84022c0f008f4677845c9ed83dd0200a": {
          "model_module": "@jupyter-widgets/base",
          "model_name": "LayoutModel",
          "model_module_version": "1.2.0",
          "state": {
            "_model_module": "@jupyter-widgets/base",
            "_model_module_version": "1.2.0",
            "_model_name": "LayoutModel",
            "_view_count": null,
            "_view_module": "@jupyter-widgets/base",
            "_view_module_version": "1.2.0",
            "_view_name": "LayoutView",
            "align_content": null,
            "align_items": null,
            "align_self": null,
            "border": null,
            "bottom": null,
            "display": null,
            "flex": null,
            "flex_flow": null,
            "grid_area": null,
            "grid_auto_columns": null,
            "grid_auto_flow": null,
            "grid_auto_rows": null,
            "grid_column": null,
            "grid_gap": null,
            "grid_row": null,
            "grid_template_areas": null,
            "grid_template_columns": null,
            "grid_template_rows": null,
            "height": null,
            "justify_content": null,
            "justify_items": null,
            "left": null,
            "margin": null,
            "max_height": null,
            "max_width": null,
            "min_height": null,
            "min_width": null,
            "object_fit": null,
            "object_position": null,
            "order": null,
            "overflow": null,
            "overflow_x": null,
            "overflow_y": null,
            "padding": null,
            "right": null,
            "top": null,
            "visibility": null,
            "width": null
          }
        },
        "74a43dab55c940ea9e7887c8319a9ea8": {
          "model_module": "@jupyter-widgets/base",
          "model_name": "LayoutModel",
          "model_module_version": "1.2.0",
          "state": {
            "_model_module": "@jupyter-widgets/base",
            "_model_module_version": "1.2.0",
            "_model_name": "LayoutModel",
            "_view_count": null,
            "_view_module": "@jupyter-widgets/base",
            "_view_module_version": "1.2.0",
            "_view_name": "LayoutView",
            "align_content": null,
            "align_items": null,
            "align_self": null,
            "border": null,
            "bottom": null,
            "display": null,
            "flex": null,
            "flex_flow": null,
            "grid_area": null,
            "grid_auto_columns": null,
            "grid_auto_flow": null,
            "grid_auto_rows": null,
            "grid_column": null,
            "grid_gap": null,
            "grid_row": null,
            "grid_template_areas": null,
            "grid_template_columns": null,
            "grid_template_rows": null,
            "height": null,
            "justify_content": null,
            "justify_items": null,
            "left": null,
            "margin": null,
            "max_height": null,
            "max_width": null,
            "min_height": null,
            "min_width": null,
            "object_fit": null,
            "object_position": null,
            "order": null,
            "overflow": null,
            "overflow_x": null,
            "overflow_y": null,
            "padding": null,
            "right": null,
            "top": null,
            "visibility": null,
            "width": null
          }
        },
        "0ab0a6980d8b427896cb4b20b7b20325": {
          "model_module": "@jupyter-widgets/controls",
          "model_name": "DescriptionStyleModel",
          "model_module_version": "1.5.0",
          "state": {
            "_model_module": "@jupyter-widgets/controls",
            "_model_module_version": "1.5.0",
            "_model_name": "DescriptionStyleModel",
            "_view_count": null,
            "_view_module": "@jupyter-widgets/base",
            "_view_module_version": "1.2.0",
            "_view_name": "StyleView",
            "description_width": ""
          }
        },
        "043201351e644c1a9ad02db927409c91": {
          "model_module": "@jupyter-widgets/base",
          "model_name": "LayoutModel",
          "model_module_version": "1.2.0",
          "state": {
            "_model_module": "@jupyter-widgets/base",
            "_model_module_version": "1.2.0",
            "_model_name": "LayoutModel",
            "_view_count": null,
            "_view_module": "@jupyter-widgets/base",
            "_view_module_version": "1.2.0",
            "_view_name": "LayoutView",
            "align_content": null,
            "align_items": null,
            "align_self": null,
            "border": null,
            "bottom": null,
            "display": null,
            "flex": null,
            "flex_flow": null,
            "grid_area": null,
            "grid_auto_columns": null,
            "grid_auto_flow": null,
            "grid_auto_rows": null,
            "grid_column": null,
            "grid_gap": null,
            "grid_row": null,
            "grid_template_areas": null,
            "grid_template_columns": null,
            "grid_template_rows": null,
            "height": null,
            "justify_content": null,
            "justify_items": null,
            "left": null,
            "margin": null,
            "max_height": null,
            "max_width": null,
            "min_height": null,
            "min_width": null,
            "object_fit": null,
            "object_position": null,
            "order": null,
            "overflow": null,
            "overflow_x": null,
            "overflow_y": null,
            "padding": null,
            "right": null,
            "top": null,
            "visibility": null,
            "width": null
          }
        },
        "167f728129aa4f9597358257640801ff": {
          "model_module": "@jupyter-widgets/controls",
          "model_name": "ProgressStyleModel",
          "model_module_version": "1.5.0",
          "state": {
            "_model_module": "@jupyter-widgets/controls",
            "_model_module_version": "1.5.0",
            "_model_name": "ProgressStyleModel",
            "_view_count": null,
            "_view_module": "@jupyter-widgets/base",
            "_view_module_version": "1.2.0",
            "_view_name": "StyleView",
            "bar_color": null,
            "description_width": ""
          }
        },
        "47b5755c87be4c9aba3f68c0f941e4d7": {
          "model_module": "@jupyter-widgets/base",
          "model_name": "LayoutModel",
          "model_module_version": "1.2.0",
          "state": {
            "_model_module": "@jupyter-widgets/base",
            "_model_module_version": "1.2.0",
            "_model_name": "LayoutModel",
            "_view_count": null,
            "_view_module": "@jupyter-widgets/base",
            "_view_module_version": "1.2.0",
            "_view_name": "LayoutView",
            "align_content": null,
            "align_items": null,
            "align_self": null,
            "border": null,
            "bottom": null,
            "display": null,
            "flex": null,
            "flex_flow": null,
            "grid_area": null,
            "grid_auto_columns": null,
            "grid_auto_flow": null,
            "grid_auto_rows": null,
            "grid_column": null,
            "grid_gap": null,
            "grid_row": null,
            "grid_template_areas": null,
            "grid_template_columns": null,
            "grid_template_rows": null,
            "height": null,
            "justify_content": null,
            "justify_items": null,
            "left": null,
            "margin": null,
            "max_height": null,
            "max_width": null,
            "min_height": null,
            "min_width": null,
            "object_fit": null,
            "object_position": null,
            "order": null,
            "overflow": null,
            "overflow_x": null,
            "overflow_y": null,
            "padding": null,
            "right": null,
            "top": null,
            "visibility": null,
            "width": null
          }
        },
        "66bdbf4ce38e4c308339ecca5d5fb909": {
          "model_module": "@jupyter-widgets/controls",
          "model_name": "DescriptionStyleModel",
          "model_module_version": "1.5.0",
          "state": {
            "_model_module": "@jupyter-widgets/controls",
            "_model_module_version": "1.5.0",
            "_model_name": "DescriptionStyleModel",
            "_view_count": null,
            "_view_module": "@jupyter-widgets/base",
            "_view_module_version": "1.2.0",
            "_view_name": "StyleView",
            "description_width": ""
          }
        },
        "637eb922238b4cd68deb6a129482f147": {
          "model_module": "@jupyter-widgets/controls",
          "model_name": "HBoxModel",
          "model_module_version": "1.5.0",
          "state": {
            "_dom_classes": [],
            "_model_module": "@jupyter-widgets/controls",
            "_model_module_version": "1.5.0",
            "_model_name": "HBoxModel",
            "_view_count": null,
            "_view_module": "@jupyter-widgets/controls",
            "_view_module_version": "1.5.0",
            "_view_name": "HBoxView",
            "box_style": "",
            "children": [
              "IPY_MODEL_e3220b3aa6a34742b7702b3290e56391",
              "IPY_MODEL_10039a0c65a54ff29d6f49691f78f18a",
              "IPY_MODEL_62e14e8bb82243ccb0658fcf090cd5f7"
            ],
            "layout": "IPY_MODEL_dbfb1218f0904211a9a08608cde2bbd9"
          }
        },
        "e3220b3aa6a34742b7702b3290e56391": {
          "model_module": "@jupyter-widgets/controls",
          "model_name": "HTMLModel",
          "model_module_version": "1.5.0",
          "state": {
            "_dom_classes": [],
            "_model_module": "@jupyter-widgets/controls",
            "_model_module_version": "1.5.0",
            "_model_name": "HTMLModel",
            "_view_count": null,
            "_view_module": "@jupyter-widgets/controls",
            "_view_module_version": "1.5.0",
            "_view_name": "HTMLView",
            "description": "",
            "description_tooltip": null,
            "layout": "IPY_MODEL_9acf956f191241afa8535908aca5f231",
            "placeholder": "​",
            "style": "IPY_MODEL_c087bfa9abd046dcb2326281b3c635e3",
            "value": "Batches: 100%"
          }
        },
        "10039a0c65a54ff29d6f49691f78f18a": {
          "model_module": "@jupyter-widgets/controls",
          "model_name": "FloatProgressModel",
          "model_module_version": "1.5.0",
          "state": {
            "_dom_classes": [],
            "_model_module": "@jupyter-widgets/controls",
            "_model_module_version": "1.5.0",
            "_model_name": "FloatProgressModel",
            "_view_count": null,
            "_view_module": "@jupyter-widgets/controls",
            "_view_module_version": "1.5.0",
            "_view_name": "ProgressView",
            "bar_style": "success",
            "description": "",
            "description_tooltip": null,
            "layout": "IPY_MODEL_57742020aabc4d0d99fa80a6ec7b163f",
            "max": 1,
            "min": 0,
            "orientation": "horizontal",
            "style": "IPY_MODEL_3de2354a7e9d492e88445efa499e792e",
            "value": 1
          }
        },
        "62e14e8bb82243ccb0658fcf090cd5f7": {
          "model_module": "@jupyter-widgets/controls",
          "model_name": "HTMLModel",
          "model_module_version": "1.5.0",
          "state": {
            "_dom_classes": [],
            "_model_module": "@jupyter-widgets/controls",
            "_model_module_version": "1.5.0",
            "_model_name": "HTMLModel",
            "_view_count": null,
            "_view_module": "@jupyter-widgets/controls",
            "_view_module_version": "1.5.0",
            "_view_name": "HTMLView",
            "description": "",
            "description_tooltip": null,
            "layout": "IPY_MODEL_702746bde5544a59bcdff5d5129ee4d1",
            "placeholder": "​",
            "style": "IPY_MODEL_7570ee2fe32644c5b9a9f93830b6fa90",
            "value": " 1/1 [00:00&lt;00:00,  7.19it/s]"
          }
        },
        "dbfb1218f0904211a9a08608cde2bbd9": {
          "model_module": "@jupyter-widgets/base",
          "model_name": "LayoutModel",
          "model_module_version": "1.2.0",
          "state": {
            "_model_module": "@jupyter-widgets/base",
            "_model_module_version": "1.2.0",
            "_model_name": "LayoutModel",
            "_view_count": null,
            "_view_module": "@jupyter-widgets/base",
            "_view_module_version": "1.2.0",
            "_view_name": "LayoutView",
            "align_content": null,
            "align_items": null,
            "align_self": null,
            "border": null,
            "bottom": null,
            "display": null,
            "flex": null,
            "flex_flow": null,
            "grid_area": null,
            "grid_auto_columns": null,
            "grid_auto_flow": null,
            "grid_auto_rows": null,
            "grid_column": null,
            "grid_gap": null,
            "grid_row": null,
            "grid_template_areas": null,
            "grid_template_columns": null,
            "grid_template_rows": null,
            "height": null,
            "justify_content": null,
            "justify_items": null,
            "left": null,
            "margin": null,
            "max_height": null,
            "max_width": null,
            "min_height": null,
            "min_width": null,
            "object_fit": null,
            "object_position": null,
            "order": null,
            "overflow": null,
            "overflow_x": null,
            "overflow_y": null,
            "padding": null,
            "right": null,
            "top": null,
            "visibility": null,
            "width": null
          }
        },
        "9acf956f191241afa8535908aca5f231": {
          "model_module": "@jupyter-widgets/base",
          "model_name": "LayoutModel",
          "model_module_version": "1.2.0",
          "state": {
            "_model_module": "@jupyter-widgets/base",
            "_model_module_version": "1.2.0",
            "_model_name": "LayoutModel",
            "_view_count": null,
            "_view_module": "@jupyter-widgets/base",
            "_view_module_version": "1.2.0",
            "_view_name": "LayoutView",
            "align_content": null,
            "align_items": null,
            "align_self": null,
            "border": null,
            "bottom": null,
            "display": null,
            "flex": null,
            "flex_flow": null,
            "grid_area": null,
            "grid_auto_columns": null,
            "grid_auto_flow": null,
            "grid_auto_rows": null,
            "grid_column": null,
            "grid_gap": null,
            "grid_row": null,
            "grid_template_areas": null,
            "grid_template_columns": null,
            "grid_template_rows": null,
            "height": null,
            "justify_content": null,
            "justify_items": null,
            "left": null,
            "margin": null,
            "max_height": null,
            "max_width": null,
            "min_height": null,
            "min_width": null,
            "object_fit": null,
            "object_position": null,
            "order": null,
            "overflow": null,
            "overflow_x": null,
            "overflow_y": null,
            "padding": null,
            "right": null,
            "top": null,
            "visibility": null,
            "width": null
          }
        },
        "c087bfa9abd046dcb2326281b3c635e3": {
          "model_module": "@jupyter-widgets/controls",
          "model_name": "DescriptionStyleModel",
          "model_module_version": "1.5.0",
          "state": {
            "_model_module": "@jupyter-widgets/controls",
            "_model_module_version": "1.5.0",
            "_model_name": "DescriptionStyleModel",
            "_view_count": null,
            "_view_module": "@jupyter-widgets/base",
            "_view_module_version": "1.2.0",
            "_view_name": "StyleView",
            "description_width": ""
          }
        },
        "57742020aabc4d0d99fa80a6ec7b163f": {
          "model_module": "@jupyter-widgets/base",
          "model_name": "LayoutModel",
          "model_module_version": "1.2.0",
          "state": {
            "_model_module": "@jupyter-widgets/base",
            "_model_module_version": "1.2.0",
            "_model_name": "LayoutModel",
            "_view_count": null,
            "_view_module": "@jupyter-widgets/base",
            "_view_module_version": "1.2.0",
            "_view_name": "LayoutView",
            "align_content": null,
            "align_items": null,
            "align_self": null,
            "border": null,
            "bottom": null,
            "display": null,
            "flex": null,
            "flex_flow": null,
            "grid_area": null,
            "grid_auto_columns": null,
            "grid_auto_flow": null,
            "grid_auto_rows": null,
            "grid_column": null,
            "grid_gap": null,
            "grid_row": null,
            "grid_template_areas": null,
            "grid_template_columns": null,
            "grid_template_rows": null,
            "height": null,
            "justify_content": null,
            "justify_items": null,
            "left": null,
            "margin": null,
            "max_height": null,
            "max_width": null,
            "min_height": null,
            "min_width": null,
            "object_fit": null,
            "object_position": null,
            "order": null,
            "overflow": null,
            "overflow_x": null,
            "overflow_y": null,
            "padding": null,
            "right": null,
            "top": null,
            "visibility": null,
            "width": null
          }
        },
        "3de2354a7e9d492e88445efa499e792e": {
          "model_module": "@jupyter-widgets/controls",
          "model_name": "ProgressStyleModel",
          "model_module_version": "1.5.0",
          "state": {
            "_model_module": "@jupyter-widgets/controls",
            "_model_module_version": "1.5.0",
            "_model_name": "ProgressStyleModel",
            "_view_count": null,
            "_view_module": "@jupyter-widgets/base",
            "_view_module_version": "1.2.0",
            "_view_name": "StyleView",
            "bar_color": null,
            "description_width": ""
          }
        },
        "702746bde5544a59bcdff5d5129ee4d1": {
          "model_module": "@jupyter-widgets/base",
          "model_name": "LayoutModel",
          "model_module_version": "1.2.0",
          "state": {
            "_model_module": "@jupyter-widgets/base",
            "_model_module_version": "1.2.0",
            "_model_name": "LayoutModel",
            "_view_count": null,
            "_view_module": "@jupyter-widgets/base",
            "_view_module_version": "1.2.0",
            "_view_name": "LayoutView",
            "align_content": null,
            "align_items": null,
            "align_self": null,
            "border": null,
            "bottom": null,
            "display": null,
            "flex": null,
            "flex_flow": null,
            "grid_area": null,
            "grid_auto_columns": null,
            "grid_auto_flow": null,
            "grid_auto_rows": null,
            "grid_column": null,
            "grid_gap": null,
            "grid_row": null,
            "grid_template_areas": null,
            "grid_template_columns": null,
            "grid_template_rows": null,
            "height": null,
            "justify_content": null,
            "justify_items": null,
            "left": null,
            "margin": null,
            "max_height": null,
            "max_width": null,
            "min_height": null,
            "min_width": null,
            "object_fit": null,
            "object_position": null,
            "order": null,
            "overflow": null,
            "overflow_x": null,
            "overflow_y": null,
            "padding": null,
            "right": null,
            "top": null,
            "visibility": null,
            "width": null
          }
        },
        "7570ee2fe32644c5b9a9f93830b6fa90": {
          "model_module": "@jupyter-widgets/controls",
          "model_name": "DescriptionStyleModel",
          "model_module_version": "1.5.0",
          "state": {
            "_model_module": "@jupyter-widgets/controls",
            "_model_module_version": "1.5.0",
            "_model_name": "DescriptionStyleModel",
            "_view_count": null,
            "_view_module": "@jupyter-widgets/base",
            "_view_module_version": "1.2.0",
            "_view_name": "StyleView",
            "description_width": ""
          }
        },
        "f6982cb57c3149a8add316333e6b6099": {
          "model_module": "@jupyter-widgets/controls",
          "model_name": "HBoxModel",
          "model_module_version": "1.5.0",
          "state": {
            "_dom_classes": [],
            "_model_module": "@jupyter-widgets/controls",
            "_model_module_version": "1.5.0",
            "_model_name": "HBoxModel",
            "_view_count": null,
            "_view_module": "@jupyter-widgets/controls",
            "_view_module_version": "1.5.0",
            "_view_name": "HBoxView",
            "box_style": "",
            "children": [
              "IPY_MODEL_67d0a8fe0f5843d28810f352ab066c3d",
              "IPY_MODEL_5c41ba62c9fc454a9814ec7d6f870cdd",
              "IPY_MODEL_c03f84cd5e1f483cae23c5716e98c4b8"
            ],
            "layout": "IPY_MODEL_e56054342d004c6c89d793068f2d4c34"
          }
        },
        "67d0a8fe0f5843d28810f352ab066c3d": {
          "model_module": "@jupyter-widgets/controls",
          "model_name": "HTMLModel",
          "model_module_version": "1.5.0",
          "state": {
            "_dom_classes": [],
            "_model_module": "@jupyter-widgets/controls",
            "_model_module_version": "1.5.0",
            "_model_name": "HTMLModel",
            "_view_count": null,
            "_view_module": "@jupyter-widgets/controls",
            "_view_module_version": "1.5.0",
            "_view_name": "HTMLView",
            "description": "",
            "description_tooltip": null,
            "layout": "IPY_MODEL_23c3527b4dc346c58fedbbeed0f20e21",
            "placeholder": "​",
            "style": "IPY_MODEL_ab82ab874aee4924b0949a5069cdda27",
            "value": "Batches: 100%"
          }
        },
        "5c41ba62c9fc454a9814ec7d6f870cdd": {
          "model_module": "@jupyter-widgets/controls",
          "model_name": "FloatProgressModel",
          "model_module_version": "1.5.0",
          "state": {
            "_dom_classes": [],
            "_model_module": "@jupyter-widgets/controls",
            "_model_module_version": "1.5.0",
            "_model_name": "FloatProgressModel",
            "_view_count": null,
            "_view_module": "@jupyter-widgets/controls",
            "_view_module_version": "1.5.0",
            "_view_name": "ProgressView",
            "bar_style": "success",
            "description": "",
            "description_tooltip": null,
            "layout": "IPY_MODEL_1a3a864150cb4f2caede91c60b6a2e67",
            "max": 1,
            "min": 0,
            "orientation": "horizontal",
            "style": "IPY_MODEL_5a2e71043c29445dbe8127ea7f2328e9",
            "value": 1
          }
        },
        "c03f84cd5e1f483cae23c5716e98c4b8": {
          "model_module": "@jupyter-widgets/controls",
          "model_name": "HTMLModel",
          "model_module_version": "1.5.0",
          "state": {
            "_dom_classes": [],
            "_model_module": "@jupyter-widgets/controls",
            "_model_module_version": "1.5.0",
            "_model_name": "HTMLModel",
            "_view_count": null,
            "_view_module": "@jupyter-widgets/controls",
            "_view_module_version": "1.5.0",
            "_view_name": "HTMLView",
            "description": "",
            "description_tooltip": null,
            "layout": "IPY_MODEL_303542f8566d4fb097a5bc457001767f",
            "placeholder": "​",
            "style": "IPY_MODEL_b6d9987deeb34a11beaaf6ed8390776a",
            "value": " 1/1 [00:00&lt;00:00, 14.31it/s]"
          }
        },
        "e56054342d004c6c89d793068f2d4c34": {
          "model_module": "@jupyter-widgets/base",
          "model_name": "LayoutModel",
          "model_module_version": "1.2.0",
          "state": {
            "_model_module": "@jupyter-widgets/base",
            "_model_module_version": "1.2.0",
            "_model_name": "LayoutModel",
            "_view_count": null,
            "_view_module": "@jupyter-widgets/base",
            "_view_module_version": "1.2.0",
            "_view_name": "LayoutView",
            "align_content": null,
            "align_items": null,
            "align_self": null,
            "border": null,
            "bottom": null,
            "display": null,
            "flex": null,
            "flex_flow": null,
            "grid_area": null,
            "grid_auto_columns": null,
            "grid_auto_flow": null,
            "grid_auto_rows": null,
            "grid_column": null,
            "grid_gap": null,
            "grid_row": null,
            "grid_template_areas": null,
            "grid_template_columns": null,
            "grid_template_rows": null,
            "height": null,
            "justify_content": null,
            "justify_items": null,
            "left": null,
            "margin": null,
            "max_height": null,
            "max_width": null,
            "min_height": null,
            "min_width": null,
            "object_fit": null,
            "object_position": null,
            "order": null,
            "overflow": null,
            "overflow_x": null,
            "overflow_y": null,
            "padding": null,
            "right": null,
            "top": null,
            "visibility": null,
            "width": null
          }
        },
        "23c3527b4dc346c58fedbbeed0f20e21": {
          "model_module": "@jupyter-widgets/base",
          "model_name": "LayoutModel",
          "model_module_version": "1.2.0",
          "state": {
            "_model_module": "@jupyter-widgets/base",
            "_model_module_version": "1.2.0",
            "_model_name": "LayoutModel",
            "_view_count": null,
            "_view_module": "@jupyter-widgets/base",
            "_view_module_version": "1.2.0",
            "_view_name": "LayoutView",
            "align_content": null,
            "align_items": null,
            "align_self": null,
            "border": null,
            "bottom": null,
            "display": null,
            "flex": null,
            "flex_flow": null,
            "grid_area": null,
            "grid_auto_columns": null,
            "grid_auto_flow": null,
            "grid_auto_rows": null,
            "grid_column": null,
            "grid_gap": null,
            "grid_row": null,
            "grid_template_areas": null,
            "grid_template_columns": null,
            "grid_template_rows": null,
            "height": null,
            "justify_content": null,
            "justify_items": null,
            "left": null,
            "margin": null,
            "max_height": null,
            "max_width": null,
            "min_height": null,
            "min_width": null,
            "object_fit": null,
            "object_position": null,
            "order": null,
            "overflow": null,
            "overflow_x": null,
            "overflow_y": null,
            "padding": null,
            "right": null,
            "top": null,
            "visibility": null,
            "width": null
          }
        },
        "ab82ab874aee4924b0949a5069cdda27": {
          "model_module": "@jupyter-widgets/controls",
          "model_name": "DescriptionStyleModel",
          "model_module_version": "1.5.0",
          "state": {
            "_model_module": "@jupyter-widgets/controls",
            "_model_module_version": "1.5.0",
            "_model_name": "DescriptionStyleModel",
            "_view_count": null,
            "_view_module": "@jupyter-widgets/base",
            "_view_module_version": "1.2.0",
            "_view_name": "StyleView",
            "description_width": ""
          }
        },
        "1a3a864150cb4f2caede91c60b6a2e67": {
          "model_module": "@jupyter-widgets/base",
          "model_name": "LayoutModel",
          "model_module_version": "1.2.0",
          "state": {
            "_model_module": "@jupyter-widgets/base",
            "_model_module_version": "1.2.0",
            "_model_name": "LayoutModel",
            "_view_count": null,
            "_view_module": "@jupyter-widgets/base",
            "_view_module_version": "1.2.0",
            "_view_name": "LayoutView",
            "align_content": null,
            "align_items": null,
            "align_self": null,
            "border": null,
            "bottom": null,
            "display": null,
            "flex": null,
            "flex_flow": null,
            "grid_area": null,
            "grid_auto_columns": null,
            "grid_auto_flow": null,
            "grid_auto_rows": null,
            "grid_column": null,
            "grid_gap": null,
            "grid_row": null,
            "grid_template_areas": null,
            "grid_template_columns": null,
            "grid_template_rows": null,
            "height": null,
            "justify_content": null,
            "justify_items": null,
            "left": null,
            "margin": null,
            "max_height": null,
            "max_width": null,
            "min_height": null,
            "min_width": null,
            "object_fit": null,
            "object_position": null,
            "order": null,
            "overflow": null,
            "overflow_x": null,
            "overflow_y": null,
            "padding": null,
            "right": null,
            "top": null,
            "visibility": null,
            "width": null
          }
        },
        "5a2e71043c29445dbe8127ea7f2328e9": {
          "model_module": "@jupyter-widgets/controls",
          "model_name": "ProgressStyleModel",
          "model_module_version": "1.5.0",
          "state": {
            "_model_module": "@jupyter-widgets/controls",
            "_model_module_version": "1.5.0",
            "_model_name": "ProgressStyleModel",
            "_view_count": null,
            "_view_module": "@jupyter-widgets/base",
            "_view_module_version": "1.2.0",
            "_view_name": "StyleView",
            "bar_color": null,
            "description_width": ""
          }
        },
        "303542f8566d4fb097a5bc457001767f": {
          "model_module": "@jupyter-widgets/base",
          "model_name": "LayoutModel",
          "model_module_version": "1.2.0",
          "state": {
            "_model_module": "@jupyter-widgets/base",
            "_model_module_version": "1.2.0",
            "_model_name": "LayoutModel",
            "_view_count": null,
            "_view_module": "@jupyter-widgets/base",
            "_view_module_version": "1.2.0",
            "_view_name": "LayoutView",
            "align_content": null,
            "align_items": null,
            "align_self": null,
            "border": null,
            "bottom": null,
            "display": null,
            "flex": null,
            "flex_flow": null,
            "grid_area": null,
            "grid_auto_columns": null,
            "grid_auto_flow": null,
            "grid_auto_rows": null,
            "grid_column": null,
            "grid_gap": null,
            "grid_row": null,
            "grid_template_areas": null,
            "grid_template_columns": null,
            "grid_template_rows": null,
            "height": null,
            "justify_content": null,
            "justify_items": null,
            "left": null,
            "margin": null,
            "max_height": null,
            "max_width": null,
            "min_height": null,
            "min_width": null,
            "object_fit": null,
            "object_position": null,
            "order": null,
            "overflow": null,
            "overflow_x": null,
            "overflow_y": null,
            "padding": null,
            "right": null,
            "top": null,
            "visibility": null,
            "width": null
          }
        },
        "b6d9987deeb34a11beaaf6ed8390776a": {
          "model_module": "@jupyter-widgets/controls",
          "model_name": "DescriptionStyleModel",
          "model_module_version": "1.5.0",
          "state": {
            "_model_module": "@jupyter-widgets/controls",
            "_model_module_version": "1.5.0",
            "_model_name": "DescriptionStyleModel",
            "_view_count": null,
            "_view_module": "@jupyter-widgets/base",
            "_view_module_version": "1.2.0",
            "_view_name": "StyleView",
            "description_width": ""
          }
        }
      }
    }
  },
  "cells": [
    {
      "cell_type": "code",
      "execution_count": null,
      "metadata": {
        "colab": {
          "base_uri": "https://localhost:8080/"
        },
        "id": "pMl7pvQz2Qtl",
        "outputId": "c85e629d-dd9f-482c-8b1f-47647bda8460"
      },
      "outputs": [
        {
          "output_type": "stream",
          "name": "stdout",
          "text": [
            "Requirement already satisfied: langchain in /usr/local/lib/python3.12/dist-packages (0.3.27)\n",
            "Requirement already satisfied: langchain-core<1.0.0,>=0.3.72 in /usr/local/lib/python3.12/dist-packages (from langchain) (0.3.78)\n",
            "Requirement already satisfied: langchain-text-splitters<1.0.0,>=0.3.9 in /usr/local/lib/python3.12/dist-packages (from langchain) (0.3.11)\n",
            "Requirement already satisfied: langsmith>=0.1.17 in /usr/local/lib/python3.12/dist-packages (from langchain) (0.4.33)\n",
            "Requirement already satisfied: pydantic<3.0.0,>=2.7.4 in /usr/local/lib/python3.12/dist-packages (from langchain) (2.11.10)\n",
            "Requirement already satisfied: SQLAlchemy<3,>=1.4 in /usr/local/lib/python3.12/dist-packages (from langchain) (2.0.43)\n",
            "Requirement already satisfied: requests<3,>=2 in /usr/local/lib/python3.12/dist-packages (from langchain) (2.32.5)\n",
            "Requirement already satisfied: PyYAML>=5.3 in /usr/local/lib/python3.12/dist-packages (from langchain) (6.0.3)\n",
            "Requirement already satisfied: tenacity!=8.4.0,<10.0.0,>=8.1.0 in /usr/local/lib/python3.12/dist-packages (from langchain-core<1.0.0,>=0.3.72->langchain) (8.5.0)\n",
            "Requirement already satisfied: jsonpatch<2.0.0,>=1.33.0 in /usr/local/lib/python3.12/dist-packages (from langchain-core<1.0.0,>=0.3.72->langchain) (1.33)\n",
            "Requirement already satisfied: typing-extensions<5.0.0,>=4.7.0 in /usr/local/lib/python3.12/dist-packages (from langchain-core<1.0.0,>=0.3.72->langchain) (4.15.0)\n",
            "Requirement already satisfied: packaging<26.0.0,>=23.2.0 in /usr/local/lib/python3.12/dist-packages (from langchain-core<1.0.0,>=0.3.72->langchain) (25.0)\n",
            "Requirement already satisfied: httpx<1,>=0.23.0 in /usr/local/lib/python3.12/dist-packages (from langsmith>=0.1.17->langchain) (0.28.1)\n",
            "Requirement already satisfied: orjson>=3.9.14 in /usr/local/lib/python3.12/dist-packages (from langsmith>=0.1.17->langchain) (3.11.3)\n",
            "Requirement already satisfied: requests-toolbelt>=1.0.0 in /usr/local/lib/python3.12/dist-packages (from langsmith>=0.1.17->langchain) (1.0.0)\n",
            "Requirement already satisfied: zstandard>=0.23.0 in /usr/local/lib/python3.12/dist-packages (from langsmith>=0.1.17->langchain) (0.25.0)\n",
            "Requirement already satisfied: annotated-types>=0.6.0 in /usr/local/lib/python3.12/dist-packages (from pydantic<3.0.0,>=2.7.4->langchain) (0.7.0)\n",
            "Requirement already satisfied: pydantic-core==2.33.2 in /usr/local/lib/python3.12/dist-packages (from pydantic<3.0.0,>=2.7.4->langchain) (2.33.2)\n",
            "Requirement already satisfied: typing-inspection>=0.4.0 in /usr/local/lib/python3.12/dist-packages (from pydantic<3.0.0,>=2.7.4->langchain) (0.4.2)\n",
            "Requirement already satisfied: charset_normalizer<4,>=2 in /usr/local/lib/python3.12/dist-packages (from requests<3,>=2->langchain) (3.4.3)\n",
            "Requirement already satisfied: idna<4,>=2.5 in /usr/local/lib/python3.12/dist-packages (from requests<3,>=2->langchain) (3.10)\n",
            "Requirement already satisfied: urllib3<3,>=1.21.1 in /usr/local/lib/python3.12/dist-packages (from requests<3,>=2->langchain) (2.3.0)\n",
            "Requirement already satisfied: certifi>=2017.4.17 in /usr/local/lib/python3.12/dist-packages (from requests<3,>=2->langchain) (2025.10.5)\n",
            "Requirement already satisfied: greenlet>=1 in /usr/local/lib/python3.12/dist-packages (from SQLAlchemy<3,>=1.4->langchain) (3.2.4)\n",
            "Requirement already satisfied: anyio in /usr/local/lib/python3.12/dist-packages (from httpx<1,>=0.23.0->langsmith>=0.1.17->langchain) (4.11.0)\n",
            "Requirement already satisfied: httpcore==1.* in /usr/local/lib/python3.12/dist-packages (from httpx<1,>=0.23.0->langsmith>=0.1.17->langchain) (1.0.9)\n",
            "Requirement already satisfied: h11>=0.16 in /usr/local/lib/python3.12/dist-packages (from httpcore==1.*->httpx<1,>=0.23.0->langsmith>=0.1.17->langchain) (0.16.0)\n",
            "Requirement already satisfied: jsonpointer>=1.9 in /usr/local/lib/python3.12/dist-packages (from jsonpatch<2.0.0,>=1.33.0->langchain-core<1.0.0,>=0.3.72->langchain) (3.0.0)\n",
            "Requirement already satisfied: sniffio>=1.1 in /usr/local/lib/python3.12/dist-packages (from anyio->httpx<1,>=0.23.0->langsmith>=0.1.17->langchain) (1.3.1)\n",
            "Requirement already satisfied: langchain-core in /usr/local/lib/python3.12/dist-packages (0.3.78)\n",
            "Requirement already satisfied: langsmith<1.0.0,>=0.3.45 in /usr/local/lib/python3.12/dist-packages (from langchain-core) (0.4.33)\n",
            "Requirement already satisfied: tenacity!=8.4.0,<10.0.0,>=8.1.0 in /usr/local/lib/python3.12/dist-packages (from langchain-core) (8.5.0)\n",
            "Requirement already satisfied: jsonpatch<2.0.0,>=1.33.0 in /usr/local/lib/python3.12/dist-packages (from langchain-core) (1.33)\n",
            "Requirement already satisfied: PyYAML<7.0.0,>=5.3.0 in /usr/local/lib/python3.12/dist-packages (from langchain-core) (6.0.3)\n",
            "Requirement already satisfied: typing-extensions<5.0.0,>=4.7.0 in /usr/local/lib/python3.12/dist-packages (from langchain-core) (4.15.0)\n",
            "Requirement already satisfied: packaging<26.0.0,>=23.2.0 in /usr/local/lib/python3.12/dist-packages (from langchain-core) (25.0)\n",
            "Requirement already satisfied: pydantic<3.0.0,>=2.7.4 in /usr/local/lib/python3.12/dist-packages (from langchain-core) (2.11.10)\n",
            "Requirement already satisfied: jsonpointer>=1.9 in /usr/local/lib/python3.12/dist-packages (from jsonpatch<2.0.0,>=1.33.0->langchain-core) (3.0.0)\n",
            "Requirement already satisfied: httpx<1,>=0.23.0 in /usr/local/lib/python3.12/dist-packages (from langsmith<1.0.0,>=0.3.45->langchain-core) (0.28.1)\n",
            "Requirement already satisfied: orjson>=3.9.14 in /usr/local/lib/python3.12/dist-packages (from langsmith<1.0.0,>=0.3.45->langchain-core) (3.11.3)\n",
            "Requirement already satisfied: requests-toolbelt>=1.0.0 in /usr/local/lib/python3.12/dist-packages (from langsmith<1.0.0,>=0.3.45->langchain-core) (1.0.0)\n",
            "Requirement already satisfied: requests>=2.0.0 in /usr/local/lib/python3.12/dist-packages (from langsmith<1.0.0,>=0.3.45->langchain-core) (2.32.5)\n",
            "Requirement already satisfied: zstandard>=0.23.0 in /usr/local/lib/python3.12/dist-packages (from langsmith<1.0.0,>=0.3.45->langchain-core) (0.25.0)\n",
            "Requirement already satisfied: annotated-types>=0.6.0 in /usr/local/lib/python3.12/dist-packages (from pydantic<3.0.0,>=2.7.4->langchain-core) (0.7.0)\n",
            "Requirement already satisfied: pydantic-core==2.33.2 in /usr/local/lib/python3.12/dist-packages (from pydantic<3.0.0,>=2.7.4->langchain-core) (2.33.2)\n",
            "Requirement already satisfied: typing-inspection>=0.4.0 in /usr/local/lib/python3.12/dist-packages (from pydantic<3.0.0,>=2.7.4->langchain-core) (0.4.2)\n",
            "Requirement already satisfied: anyio in /usr/local/lib/python3.12/dist-packages (from httpx<1,>=0.23.0->langsmith<1.0.0,>=0.3.45->langchain-core) (4.11.0)\n",
            "Requirement already satisfied: certifi in /usr/local/lib/python3.12/dist-packages (from httpx<1,>=0.23.0->langsmith<1.0.0,>=0.3.45->langchain-core) (2025.10.5)\n",
            "Requirement already satisfied: httpcore==1.* in /usr/local/lib/python3.12/dist-packages (from httpx<1,>=0.23.0->langsmith<1.0.0,>=0.3.45->langchain-core) (1.0.9)\n",
            "Requirement already satisfied: idna in /usr/local/lib/python3.12/dist-packages (from httpx<1,>=0.23.0->langsmith<1.0.0,>=0.3.45->langchain-core) (3.10)\n",
            "Requirement already satisfied: h11>=0.16 in /usr/local/lib/python3.12/dist-packages (from httpcore==1.*->httpx<1,>=0.23.0->langsmith<1.0.0,>=0.3.45->langchain-core) (0.16.0)\n",
            "Requirement already satisfied: charset_normalizer<4,>=2 in /usr/local/lib/python3.12/dist-packages (from requests>=2.0.0->langsmith<1.0.0,>=0.3.45->langchain-core) (3.4.3)\n",
            "Requirement already satisfied: urllib3<3,>=1.21.1 in /usr/local/lib/python3.12/dist-packages (from requests>=2.0.0->langsmith<1.0.0,>=0.3.45->langchain-core) (2.3.0)\n",
            "Requirement already satisfied: sniffio>=1.1 in /usr/local/lib/python3.12/dist-packages (from anyio->httpx<1,>=0.23.0->langsmith<1.0.0,>=0.3.45->langchain-core) (1.3.1)\n",
            "Requirement already satisfied: pypdf in /usr/local/lib/python3.12/dist-packages (6.1.1)\n",
            "Requirement already satisfied: pymupdf in /usr/local/lib/python3.12/dist-packages (1.26.5)\n",
            "Requirement already satisfied: langchain_community in /usr/local/lib/python3.12/dist-packages (0.3.31)\n",
            "Requirement already satisfied: langchain-core<2.0.0,>=0.3.78 in /usr/local/lib/python3.12/dist-packages (from langchain_community) (0.3.78)\n",
            "Requirement already satisfied: langchain<2.0.0,>=0.3.27 in /usr/local/lib/python3.12/dist-packages (from langchain_community) (0.3.27)\n",
            "Requirement already satisfied: SQLAlchemy<3.0.0,>=1.4.0 in /usr/local/lib/python3.12/dist-packages (from langchain_community) (2.0.43)\n",
            "Requirement already satisfied: requests<3.0.0,>=2.32.5 in /usr/local/lib/python3.12/dist-packages (from langchain_community) (2.32.5)\n",
            "Requirement already satisfied: PyYAML<7.0.0,>=5.3.0 in /usr/local/lib/python3.12/dist-packages (from langchain_community) (6.0.3)\n",
            "Requirement already satisfied: aiohttp<4.0.0,>=3.8.3 in /usr/local/lib/python3.12/dist-packages (from langchain_community) (3.13.0)\n",
            "Requirement already satisfied: tenacity!=8.4.0,<10.0.0,>=8.1.0 in /usr/local/lib/python3.12/dist-packages (from langchain_community) (8.5.0)\n",
            "Requirement already satisfied: dataclasses-json<0.7.0,>=0.6.7 in /usr/local/lib/python3.12/dist-packages (from langchain_community) (0.6.7)\n",
            "Requirement already satisfied: pydantic-settings<3.0.0,>=2.10.1 in /usr/local/lib/python3.12/dist-packages (from langchain_community) (2.11.0)\n",
            "Requirement already satisfied: langsmith<1.0.0,>=0.1.125 in /usr/local/lib/python3.12/dist-packages (from langchain_community) (0.4.33)\n",
            "Requirement already satisfied: httpx-sse<1.0.0,>=0.4.0 in /usr/local/lib/python3.12/dist-packages (from langchain_community) (0.4.2)\n",
            "Requirement already satisfied: numpy>=1.26.2 in /usr/local/lib/python3.12/dist-packages (from langchain_community) (2.0.2)\n",
            "Requirement already satisfied: aiohappyeyeballs>=2.5.0 in /usr/local/lib/python3.12/dist-packages (from aiohttp<4.0.0,>=3.8.3->langchain_community) (2.6.1)\n",
            "Requirement already satisfied: aiosignal>=1.4.0 in /usr/local/lib/python3.12/dist-packages (from aiohttp<4.0.0,>=3.8.3->langchain_community) (1.4.0)\n",
            "Requirement already satisfied: attrs>=17.3.0 in /usr/local/lib/python3.12/dist-packages (from aiohttp<4.0.0,>=3.8.3->langchain_community) (25.4.0)\n",
            "Requirement already satisfied: frozenlist>=1.1.1 in /usr/local/lib/python3.12/dist-packages (from aiohttp<4.0.0,>=3.8.3->langchain_community) (1.8.0)\n",
            "Requirement already satisfied: multidict<7.0,>=4.5 in /usr/local/lib/python3.12/dist-packages (from aiohttp<4.0.0,>=3.8.3->langchain_community) (6.7.0)\n",
            "Requirement already satisfied: propcache>=0.2.0 in /usr/local/lib/python3.12/dist-packages (from aiohttp<4.0.0,>=3.8.3->langchain_community) (0.3.2)\n",
            "Requirement already satisfied: yarl<2.0,>=1.17.0 in /usr/local/lib/python3.12/dist-packages (from aiohttp<4.0.0,>=3.8.3->langchain_community) (1.22.0)\n",
            "Requirement already satisfied: marshmallow<4.0.0,>=3.18.0 in /usr/local/lib/python3.12/dist-packages (from dataclasses-json<0.7.0,>=0.6.7->langchain_community) (3.26.1)\n",
            "Requirement already satisfied: typing-inspect<1,>=0.4.0 in /usr/local/lib/python3.12/dist-packages (from dataclasses-json<0.7.0,>=0.6.7->langchain_community) (0.9.0)\n",
            "Requirement already satisfied: langchain-text-splitters<1.0.0,>=0.3.9 in /usr/local/lib/python3.12/dist-packages (from langchain<2.0.0,>=0.3.27->langchain_community) (0.3.11)\n",
            "Requirement already satisfied: pydantic<3.0.0,>=2.7.4 in /usr/local/lib/python3.12/dist-packages (from langchain<2.0.0,>=0.3.27->langchain_community) (2.11.10)\n",
            "Requirement already satisfied: jsonpatch<2.0.0,>=1.33.0 in /usr/local/lib/python3.12/dist-packages (from langchain-core<2.0.0,>=0.3.78->langchain_community) (1.33)\n",
            "Requirement already satisfied: typing-extensions<5.0.0,>=4.7.0 in /usr/local/lib/python3.12/dist-packages (from langchain-core<2.0.0,>=0.3.78->langchain_community) (4.15.0)\n",
            "Requirement already satisfied: packaging<26.0.0,>=23.2.0 in /usr/local/lib/python3.12/dist-packages (from langchain-core<2.0.0,>=0.3.78->langchain_community) (25.0)\n",
            "Requirement already satisfied: httpx<1,>=0.23.0 in /usr/local/lib/python3.12/dist-packages (from langsmith<1.0.0,>=0.1.125->langchain_community) (0.28.1)\n",
            "Requirement already satisfied: orjson>=3.9.14 in /usr/local/lib/python3.12/dist-packages (from langsmith<1.0.0,>=0.1.125->langchain_community) (3.11.3)\n",
            "Requirement already satisfied: requests-toolbelt>=1.0.0 in /usr/local/lib/python3.12/dist-packages (from langsmith<1.0.0,>=0.1.125->langchain_community) (1.0.0)\n",
            "Requirement already satisfied: zstandard>=0.23.0 in /usr/local/lib/python3.12/dist-packages (from langsmith<1.0.0,>=0.1.125->langchain_community) (0.25.0)\n",
            "Requirement already satisfied: python-dotenv>=0.21.0 in /usr/local/lib/python3.12/dist-packages (from pydantic-settings<3.0.0,>=2.10.1->langchain_community) (1.1.1)\n",
            "Requirement already satisfied: typing-inspection>=0.4.0 in /usr/local/lib/python3.12/dist-packages (from pydantic-settings<3.0.0,>=2.10.1->langchain_community) (0.4.2)\n",
            "Requirement already satisfied: charset_normalizer<4,>=2 in /usr/local/lib/python3.12/dist-packages (from requests<3.0.0,>=2.32.5->langchain_community) (3.4.3)\n",
            "Requirement already satisfied: idna<4,>=2.5 in /usr/local/lib/python3.12/dist-packages (from requests<3.0.0,>=2.32.5->langchain_community) (3.10)\n",
            "Requirement already satisfied: urllib3<3,>=1.21.1 in /usr/local/lib/python3.12/dist-packages (from requests<3.0.0,>=2.32.5->langchain_community) (2.3.0)\n",
            "Requirement already satisfied: certifi>=2017.4.17 in /usr/local/lib/python3.12/dist-packages (from requests<3.0.0,>=2.32.5->langchain_community) (2025.10.5)\n",
            "Requirement already satisfied: greenlet>=1 in /usr/local/lib/python3.12/dist-packages (from SQLAlchemy<3.0.0,>=1.4.0->langchain_community) (3.2.4)\n",
            "Requirement already satisfied: anyio in /usr/local/lib/python3.12/dist-packages (from httpx<1,>=0.23.0->langsmith<1.0.0,>=0.1.125->langchain_community) (4.11.0)\n",
            "Requirement already satisfied: httpcore==1.* in /usr/local/lib/python3.12/dist-packages (from httpx<1,>=0.23.0->langsmith<1.0.0,>=0.1.125->langchain_community) (1.0.9)\n",
            "Requirement already satisfied: h11>=0.16 in /usr/local/lib/python3.12/dist-packages (from httpcore==1.*->httpx<1,>=0.23.0->langsmith<1.0.0,>=0.1.125->langchain_community) (0.16.0)\n",
            "Requirement already satisfied: jsonpointer>=1.9 in /usr/local/lib/python3.12/dist-packages (from jsonpatch<2.0.0,>=1.33.0->langchain-core<2.0.0,>=0.3.78->langchain_community) (3.0.0)\n",
            "Requirement already satisfied: annotated-types>=0.6.0 in /usr/local/lib/python3.12/dist-packages (from pydantic<3.0.0,>=2.7.4->langchain<2.0.0,>=0.3.27->langchain_community) (0.7.0)\n",
            "Requirement already satisfied: pydantic-core==2.33.2 in /usr/local/lib/python3.12/dist-packages (from pydantic<3.0.0,>=2.7.4->langchain<2.0.0,>=0.3.27->langchain_community) (2.33.2)\n",
            "Requirement already satisfied: mypy-extensions>=0.3.0 in /usr/local/lib/python3.12/dist-packages (from typing-inspect<1,>=0.4.0->dataclasses-json<0.7.0,>=0.6.7->langchain_community) (1.1.0)\n",
            "Requirement already satisfied: sniffio>=1.1 in /usr/local/lib/python3.12/dist-packages (from anyio->httpx<1,>=0.23.0->langsmith<1.0.0,>=0.1.125->langchain_community) (1.3.1)\n"
          ]
        }
      ],
      "source": [
        "!pip install langchain\n",
        "!pip install langchain-core\n",
        "!pip install pypdf\n",
        "!pip install pymupdf\n",
        "!pip install langchain_community"
      ]
    },
    {
      "cell_type": "code",
      "source": [
        "from langchain_core.documents import Document\n"
      ],
      "metadata": {
        "id": "GLC0UbnS23Uv"
      },
      "execution_count": null,
      "outputs": []
    },
    {
      "cell_type": "code",
      "source": [
        "## create a simple txt file\n",
        "import os\n",
        "os.makedirs('data', exist_ok=True)\n"
      ],
      "metadata": {
        "id": "K7BtjIzz33ov"
      },
      "execution_count": null,
      "outputs": []
    },
    {
      "cell_type": "code",
      "source": [
        "sample_texts = {\n",
        "    \"data/python.txt\":\"\"\"Python is a high-level, general-purpose programming language. Its design philosophy emphasizes code readability with the use of significant indentation. Python is dynamically-typed and garbage-collected. It supports multiple programming paradigms, including structured, object-oriented and functional Python is one of the most popular and versatile programming languages in the world today. Created by Guido van Rossum in the late 1980s and officially released in 1991, Python has grown from a simple scripting language into a powerful tool used in almost every field of computing. It is known for its simplicity, readability, and flexibility, which make it an excellent choice for beginners as well as professionals. Over the years, Python has become the backbone of modern technologies such as artificial intelligence, machine learning, data science, web development, automation, and software engineering.\n",
        "\n",
        "Python’s journey began in December 1989, when Guido van Rossum started developing the language as a hobby project at the Centrum Wiskunde & Informatica (CWI) in the Netherlands. He wanted to create a language that would combine the readability of the ABC language with the power and extensibility of C. His goal was to design a language that emphasized code readability and allowed programmers to express ideas in fewer lines of code compared to other languages like C++ or Java. The first version, Python 1.0, was released in 1991. It included features such as functions, exception handling, and core data types like lists, strings, and dictionaries. Over time, Python evolved significantly with major releases like Python 2.0 in 2000, which introduced list comprehensions and garbage collection, and Python 3.0 in 2008, which improved Unicode support and made the language more consistent. Today, Python 3.x is the standard, and the community has officially discontinued Python 2 as of 2020. The language continues to evolve through contributions from the Python Software Foundation and its global open-source community.\n",
        "\n",
        "Python’s philosophy is centered on the idea that code should be easy to read and write. This philosophy is captured in “The Zen of Python,” a collection of guiding principles written by Tim Peters. Some of its most famous lines include “Beautiful is better than ugly,” “Simple is better than complex,” “Readability counts,” and “There should be one—and preferably only one—obvious way to do it.” These principles influence how Python code is written and encourage developers to write clean, maintainable, and elegant programs. Unlike some languages that prioritize performance over readability, Python aims for a balance between simplicity and power.\n",
        "\n",
        "Python’s key features make it stand out among other programming languages. It has an easy-to-learn and readable syntax that closely resembles the English language, making it an excellent first language for beginners. Instead of using braces or semicolons, Python uses indentation to define code blocks, which enforces readable and organized code. Python is an interpreted language, meaning that code is executed line by line, simplifying debugging. It is also dynamically typed, so programmers don’t need to declare variable types explicitly. Python includes a rich standard library with modules for file handling, regular expressions, web protocols, databases, and more, reducing the need for third-party libraries for common tasks. It is cross-platform compatible, running on Windows, macOS, and Linux with minimal changes. It supports multiple programming paradigms, including object-oriented, procedural, and functional programming. Python’s large community contributes to its vast ecosystem of libraries, frameworks, and tutorials, making it easier to learn and use. It can also integrate with other languages like C, C++, and Java, allowing it to be embedded into larger applications as a scripting language.\n",
        "\n",
        "Python offers a wide range of built-in data types such as integers, floats, complex numbers, strings, lists, tuples, dictionaries, and sets. These structures are designed to handle data efficiently and support various operations such as slicing, sorting, and iteration. Lists, for example, can store multiple items of different types and can be modified easily, while tuples are immutable and used to store constant data. Control structures such as if-else statements, for loops, and while loops make Python code readable and expressive. The use of indentation ensures that code is visually clear and properly structured.\n",
        "\n",
        "Functions are a fundamental part of Python, enabling code reusability and organization. They are defined using the ‘def’ keyword and can return values using the ‘return’ statement. Python also supports anonymous or lambda functions, which are short, single-line functions often used for functional programming. Modules allow programmers to divide code into separate files for better organization. Python’s extensive collection of built-in and third-party modules makes it easy to expand functionality.\n",
        "\n",
        "Python also supports object-oriented programming (OOP), which structures programs using classes and objects. OOP promotes code reusability through concepts such as inheritance, encapsulation, and polymorphism. For example, a base class like “Animal” can be extended by derived classes like “Dog” or “Cat,” each defining its specific behavior while reusing the base structure. This makes Python well-suited for large, complex applications.\n",
        "\n",
        "Python has found applications in almost every area of technology. In web development, frameworks such as Django, Flask, and FastAPI are used to create scalable, secure, and dynamic web applications. In data science and machine learning, Python dominates due to libraries such as NumPy and Pandas for data manipulation, Matplotlib and Seaborn for visualization, and Scikit-learn, TensorFlow, and PyTorch for machine learning and deep learning. Python is also widely used for automation and scripting, allowing users to automate repetitive tasks such as file handling, web scraping, and data entry with libraries like Selenium and BeautifulSoup. In game development, Python provides tools like Pygame for building 2D games. In cybersecurity and ethical hacking, it helps develop scanning tools, analyze network traffic, and perform penetration testing. In scientific computing, Python is used in physics, chemistry, and biology for simulations and modeling through libraries like SciPy and SymPy. It also plays an important role in the Internet of Things (IoT) using devices like Raspberry Pi. Additionally, Python is increasingly used in finance and business analytics for algorithmic trading, predictive analysis, and data visualization.\n",
        "\n",
        "Python has several advantages that have contributed to its immense popularity. It is simple, versatile, and easy to learn, making it suitable for both beginners and professionals. Its extensive libraries and frameworks make development faster and easier. The language enhances productivity because programs can be written with fewer lines of code. The strong community support ensures that solutions and resources are always available. Python’s ability to integrate with other languages also makes it highly adaptable. However, Python has some limitations as well. It is slower compared to compiled languages like C++ or Java because it is interpreted. It is not widely used for mobile app development due to limited support. Python also consumes more memory, which may not be ideal for resource-constrained systems. Additionally, since Python is dynamically typed, some errors may only appear at runtime.\n",
        "\n",
        "Despite these drawbacks, Python’s advantages far outweigh its limitations. Its simplicity and flexibility make it a preferred choice for rapid development and prototyping. Python’s dominance in data science, AI, and automation ensures that it remains one of the most in-demand skills in the tech industry.\n",
        "\n",
        "Python has also become an important tool in education and research. Its readability and simplicity make it ideal for teaching programming concepts to students. Many universities and schools have adopted Python as the first programming language for beginners. In academic research, Python is widely used for simulations, data analysis, and visualization. Tools like Jupyter Notebook have made it easier for researchers to write, execute, and document code interactively, combining code, text, and visualizations in a single environment.\n",
        "\n",
        "The future of Python looks extremely promising. With the rise of artificial intelligence, machine learning, cloud computing, and automation, Python’s relevance is only expected to grow. The Python Software Foundation and the open-source community continuously improve its performance and features. Efforts like PyPy, which aims to speed up execution, and new languages like Mojo, which blend Python’s syntax with high performance, indicate that Python will continue evolving. Python is also playing a growing role in emerging fields like quantum computing, robotics, and blockchain technologies. Its adaptability ensures that it will remain a major force in software development for many years to come.\n",
        "\n",
        "In conclusion, Python is much more than just a programming language. It represents a philosophy that values simplicity, readability, and community. From small scripts to large-scale enterprise applications, Python provides the flexibility and power to bring ideas to life. Its combination of simplicity, scalability, and strong community support has made it the language of choice for millions of developers worldwide. Whether someone is building a website, analyzing data, training a machine learning model, or automating daily tasks, Python offers the tools to make it possible. Its easy learning curve makes it perfect for beginners, while its vast capabilities attract professionals and researchers alike. In every sense, Python has revolutionized the world of programming and continues to drive innovation across industries. It stands as a language that bridges the gap between human understanding and machine logic, embodying the idea of making programming accessible to everyone.\n",
        "  \"\"\"\n",
        "}"
      ],
      "metadata": {
        "id": "FccUopIL4SUh"
      },
      "execution_count": null,
      "outputs": []
    },
    {
      "cell_type": "code",
      "source": [
        "for file_path, text in sample_texts.items():\n",
        "    with open(file_path, 'w') as f:\n",
        "        f.write(text)\n",
        "\n",
        "print(\"Sample texts written to files.\")"
      ],
      "metadata": {
        "colab": {
          "base_uri": "https://localhost:8080/"
        },
        "id": "UVugozCb49yI",
        "outputId": "74ae779b-8061-4a50-c48b-d9ffa90baa91"
      },
      "execution_count": null,
      "outputs": [
        {
          "output_type": "stream",
          "name": "stdout",
          "text": [
            "Sample texts written to files.\n"
          ]
        }
      ]
    },
    {
      "cell_type": "markdown",
      "source": [
        "###Text Loader"
      ],
      "metadata": {
        "id": "wDtZHruC5aGY"
      }
    },
    {
      "cell_type": "code",
      "source": [
        "from langchain.document_loaders import TextLoader\n",
        "\n",
        "loader = TextLoader(\"data/python.txt\",encoding=\"utf-8\")\n",
        "documents = loader.load()\n",
        "print(documents)"
      ],
      "metadata": {
        "colab": {
          "base_uri": "https://localhost:8080/"
        },
        "id": "wqp3AVdn5ZgL",
        "outputId": "5112f2b5-bb33-4dad-e5c5-2903e704a6f0"
      },
      "execution_count": null,
      "outputs": [
        {
          "output_type": "stream",
          "name": "stdout",
          "text": [
            "[Document(metadata={'source': 'data/python.txt'}, page_content='Python is a high-level, general-purpose programming language. Its design philosophy emphasizes code readability with the use of significant indentation. Python is dynamically-typed and garbage-collected. It supports multiple programming paradigms, including structured, object-oriented and functional Python is one of the most popular and versatile programming languages in the world today. Created by Guido van Rossum in the late 1980s and officially released in 1991, Python has grown from a simple scripting language into a powerful tool used in almost every field of computing. It is known for its simplicity, readability, and flexibility, which make it an excellent choice for beginners as well as professionals. Over the years, Python has become the backbone of modern technologies such as artificial intelligence, machine learning, data science, web development, automation, and software engineering.\\n\\nPython’s journey began in December 1989, when Guido van Rossum started developing the language as a hobby project at the Centrum Wiskunde & Informatica (CWI) in the Netherlands. He wanted to create a language that would combine the readability of the ABC language with the power and extensibility of C. His goal was to design a language that emphasized code readability and allowed programmers to express ideas in fewer lines of code compared to other languages like C++ or Java. The first version, Python 1.0, was released in 1991. It included features such as functions, exception handling, and core data types like lists, strings, and dictionaries. Over time, Python evolved significantly with major releases like Python 2.0 in 2000, which introduced list comprehensions and garbage collection, and Python 3.0 in 2008, which improved Unicode support and made the language more consistent. Today, Python 3.x is the standard, and the community has officially discontinued Python 2 as of 2020. The language continues to evolve through contributions from the Python Software Foundation and its global open-source community.\\n\\nPython’s philosophy is centered on the idea that code should be easy to read and write. This philosophy is captured in “The Zen of Python,” a collection of guiding principles written by Tim Peters. Some of its most famous lines include “Beautiful is better than ugly,” “Simple is better than complex,” “Readability counts,” and “There should be one—and preferably only one—obvious way to do it.” These principles influence how Python code is written and encourage developers to write clean, maintainable, and elegant programs. Unlike some languages that prioritize performance over readability, Python aims for a balance between simplicity and power.\\n\\nPython’s key features make it stand out among other programming languages. It has an easy-to-learn and readable syntax that closely resembles the English language, making it an excellent first language for beginners. Instead of using braces or semicolons, Python uses indentation to define code blocks, which enforces readable and organized code. Python is an interpreted language, meaning that code is executed line by line, simplifying debugging. It is also dynamically typed, so programmers don’t need to declare variable types explicitly. Python includes a rich standard library with modules for file handling, regular expressions, web protocols, databases, and more, reducing the need for third-party libraries for common tasks. It is cross-platform compatible, running on Windows, macOS, and Linux with minimal changes. It supports multiple programming paradigms, including object-oriented, procedural, and functional programming. Python’s large community contributes to its vast ecosystem of libraries, frameworks, and tutorials, making it easier to learn and use. It can also integrate with other languages like C, C++, and Java, allowing it to be embedded into larger applications as a scripting language.\\n\\nPython offers a wide range of built-in data types such as integers, floats, complex numbers, strings, lists, tuples, dictionaries, and sets. These structures are designed to handle data efficiently and support various operations such as slicing, sorting, and iteration. Lists, for example, can store multiple items of different types and can be modified easily, while tuples are immutable and used to store constant data. Control structures such as if-else statements, for loops, and while loops make Python code readable and expressive. The use of indentation ensures that code is visually clear and properly structured.\\n\\nFunctions are a fundamental part of Python, enabling code reusability and organization. They are defined using the ‘def’ keyword and can return values using the ‘return’ statement. Python also supports anonymous or lambda functions, which are short, single-line functions often used for functional programming. Modules allow programmers to divide code into separate files for better organization. Python’s extensive collection of built-in and third-party modules makes it easy to expand functionality.\\n\\nPython also supports object-oriented programming (OOP), which structures programs using classes and objects. OOP promotes code reusability through concepts such as inheritance, encapsulation, and polymorphism. For example, a base class like “Animal” can be extended by derived classes like “Dog” or “Cat,” each defining its specific behavior while reusing the base structure. This makes Python well-suited for large, complex applications.\\n\\nPython has found applications in almost every area of technology. In web development, frameworks such as Django, Flask, and FastAPI are used to create scalable, secure, and dynamic web applications. In data science and machine learning, Python dominates due to libraries such as NumPy and Pandas for data manipulation, Matplotlib and Seaborn for visualization, and Scikit-learn, TensorFlow, and PyTorch for machine learning and deep learning. Python is also widely used for automation and scripting, allowing users to automate repetitive tasks such as file handling, web scraping, and data entry with libraries like Selenium and BeautifulSoup. In game development, Python provides tools like Pygame for building 2D games. In cybersecurity and ethical hacking, it helps develop scanning tools, analyze network traffic, and perform penetration testing. In scientific computing, Python is used in physics, chemistry, and biology for simulations and modeling through libraries like SciPy and SymPy. It also plays an important role in the Internet of Things (IoT) using devices like Raspberry Pi. Additionally, Python is increasingly used in finance and business analytics for algorithmic trading, predictive analysis, and data visualization.\\n\\nPython has several advantages that have contributed to its immense popularity. It is simple, versatile, and easy to learn, making it suitable for both beginners and professionals. Its extensive libraries and frameworks make development faster and easier. The language enhances productivity because programs can be written with fewer lines of code. The strong community support ensures that solutions and resources are always available. Python’s ability to integrate with other languages also makes it highly adaptable. However, Python has some limitations as well. It is slower compared to compiled languages like C++ or Java because it is interpreted. It is not widely used for mobile app development due to limited support. Python also consumes more memory, which may not be ideal for resource-constrained systems. Additionally, since Python is dynamically typed, some errors may only appear at runtime.\\n\\nDespite these drawbacks, Python’s advantages far outweigh its limitations. Its simplicity and flexibility make it a preferred choice for rapid development and prototyping. Python’s dominance in data science, AI, and automation ensures that it remains one of the most in-demand skills in the tech industry.\\n\\nPython has also become an important tool in education and research. Its readability and simplicity make it ideal for teaching programming concepts to students. Many universities and schools have adopted Python as the first programming language for beginners. In academic research, Python is widely used for simulations, data analysis, and visualization. Tools like Jupyter Notebook have made it easier for researchers to write, execute, and document code interactively, combining code, text, and visualizations in a single environment.\\n\\nThe future of Python looks extremely promising. With the rise of artificial intelligence, machine learning, cloud computing, and automation, Python’s relevance is only expected to grow. The Python Software Foundation and the open-source community continuously improve its performance and features. Efforts like PyPy, which aims to speed up execution, and new languages like Mojo, which blend Python’s syntax with high performance, indicate that Python will continue evolving. Python is also playing a growing role in emerging fields like quantum computing, robotics, and blockchain technologies. Its adaptability ensures that it will remain a major force in software development for many years to come.\\n\\nIn conclusion, Python is much more than just a programming language. It represents a philosophy that values simplicity, readability, and community. From small scripts to large-scale enterprise applications, Python provides the flexibility and power to bring ideas to life. Its combination of simplicity, scalability, and strong community support has made it the language of choice for millions of developers worldwide. Whether someone is building a website, analyzing data, training a machine learning model, or automating daily tasks, Python offers the tools to make it possible. Its easy learning curve makes it perfect for beginners, while its vast capabilities attract professionals and researchers alike. In every sense, Python has revolutionized the world of programming and continues to drive innovation across industries. It stands as a language that bridges the gap between human understanding and machine logic, embodying the idea of making programming accessible to everyone.\\n  ')]\n"
          ]
        }
      ]
    },
    {
      "cell_type": "markdown",
      "source": [
        "###Chunking"
      ],
      "metadata": {
        "id": "BjxAkrLQaKJs"
      }
    },
    {
      "cell_type": "code",
      "source": [
        "import os\n",
        "from langchain_community.document_loaders import PyPDFLoader,PyMuPDFLoader\n",
        "from langchain.text_splitter import RecursiveCharacterTextSplitter\n",
        "\n",
        "def split_documents(document,chunk_size=1000,chunk_overlap=200):\n",
        "    text_splitter = RecursiveCharacterTextSplitter(\n",
        "        chunk_size=chunk_size,\n",
        "        chunk_overlap=chunk_overlap,\n",
        "        length_function=len,\n",
        "        separators=[\"\\n\\n\",\"\\n\",\" \",\"\"]\n",
        "        )\n",
        "    split_docs =  text_splitter.split_documents(document)\n",
        "    print(f\"Split {len(document)} document into {len(split_docs)} chunks\")\n",
        "\n",
        "    # Split example of a chunk\n",
        "    if split_docs:\n",
        "      print(f\"\\nExample chunk:\")\n",
        "      print(f\"Content: {split_docs[0].page_content}\")\n",
        "      print(f\"Metadata: {split_docs[0].metadata}\")\n",
        "\n",
        "    return split_docs\n"
      ],
      "metadata": {
        "id": "vRUNkOWpaPiw"
      },
      "execution_count": null,
      "outputs": []
    },
    {
      "cell_type": "code",
      "source": [
        "chunks = split_documents(documents)\n",
        "print(chunks)"
      ],
      "metadata": {
        "colab": {
          "base_uri": "https://localhost:8080/"
        },
        "id": "r7uaWK3ujYWL",
        "outputId": "cb24c8af-18fa-4376-d61f-e7a7ccd9d988"
      },
      "execution_count": null,
      "outputs": [
        {
          "output_type": "stream",
          "name": "stdout",
          "text": [
            "Split 1 document into 14 chunks\n",
            "\n",
            "Example chunk:\n",
            "Content: Python is a high-level, general-purpose programming language. Its design philosophy emphasizes code readability with the use of significant indentation. Python is dynamically-typed and garbage-collected. It supports multiple programming paradigms, including structured, object-oriented and functional Python is one of the most popular and versatile programming languages in the world today. Created by Guido van Rossum in the late 1980s and officially released in 1991, Python has grown from a simple scripting language into a powerful tool used in almost every field of computing. It is known for its simplicity, readability, and flexibility, which make it an excellent choice for beginners as well as professionals. Over the years, Python has become the backbone of modern technologies such as artificial intelligence, machine learning, data science, web development, automation, and software engineering.\n",
            "Metadata: {'source': 'data/python.txt'}\n",
            "[Document(metadata={'source': 'data/python.txt'}, page_content='Python is a high-level, general-purpose programming language. Its design philosophy emphasizes code readability with the use of significant indentation. Python is dynamically-typed and garbage-collected. It supports multiple programming paradigms, including structured, object-oriented and functional Python is one of the most popular and versatile programming languages in the world today. Created by Guido van Rossum in the late 1980s and officially released in 1991, Python has grown from a simple scripting language into a powerful tool used in almost every field of computing. It is known for its simplicity, readability, and flexibility, which make it an excellent choice for beginners as well as professionals. Over the years, Python has become the backbone of modern technologies such as artificial intelligence, machine learning, data science, web development, automation, and software engineering.'), Document(metadata={'source': 'data/python.txt'}, page_content='Python’s journey began in December 1989, when Guido van Rossum started developing the language as a hobby project at the Centrum Wiskunde & Informatica (CWI) in the Netherlands. He wanted to create a language that would combine the readability of the ABC language with the power and extensibility of C. His goal was to design a language that emphasized code readability and allowed programmers to express ideas in fewer lines of code compared to other languages like C++ or Java. The first version, Python 1.0, was released in 1991. It included features such as functions, exception handling, and core data types like lists, strings, and dictionaries. Over time, Python evolved significantly with major releases like Python 2.0 in 2000, which introduced list comprehensions and garbage collection, and Python 3.0 in 2008, which improved Unicode support and made the language more consistent. Today, Python 3.x is the standard, and the community has officially discontinued Python 2 as of 2020. The'), Document(metadata={'source': 'data/python.txt'}, page_content='and Python 3.0 in 2008, which improved Unicode support and made the language more consistent. Today, Python 3.x is the standard, and the community has officially discontinued Python 2 as of 2020. The language continues to evolve through contributions from the Python Software Foundation and its global open-source community.'), Document(metadata={'source': 'data/python.txt'}, page_content='Python’s philosophy is centered on the idea that code should be easy to read and write. This philosophy is captured in “The Zen of Python,” a collection of guiding principles written by Tim Peters. Some of its most famous lines include “Beautiful is better than ugly,” “Simple is better than complex,” “Readability counts,” and “There should be one—and preferably only one—obvious way to do it.” These principles influence how Python code is written and encourage developers to write clean, maintainable, and elegant programs. Unlike some languages that prioritize performance over readability, Python aims for a balance between simplicity and power.'), Document(metadata={'source': 'data/python.txt'}, page_content='Python’s key features make it stand out among other programming languages. It has an easy-to-learn and readable syntax that closely resembles the English language, making it an excellent first language for beginners. Instead of using braces or semicolons, Python uses indentation to define code blocks, which enforces readable and organized code. Python is an interpreted language, meaning that code is executed line by line, simplifying debugging. It is also dynamically typed, so programmers don’t need to declare variable types explicitly. Python includes a rich standard library with modules for file handling, regular expressions, web protocols, databases, and more, reducing the need for third-party libraries for common tasks. It is cross-platform compatible, running on Windows, macOS, and Linux with minimal changes. It supports multiple programming paradigms, including object-oriented, procedural, and functional programming. Python’s large community contributes to its vast ecosystem of'), Document(metadata={'source': 'data/python.txt'}, page_content='with minimal changes. It supports multiple programming paradigms, including object-oriented, procedural, and functional programming. Python’s large community contributes to its vast ecosystem of libraries, frameworks, and tutorials, making it easier to learn and use. It can also integrate with other languages like C, C++, and Java, allowing it to be embedded into larger applications as a scripting language.'), Document(metadata={'source': 'data/python.txt'}, page_content='Python offers a wide range of built-in data types such as integers, floats, complex numbers, strings, lists, tuples, dictionaries, and sets. These structures are designed to handle data efficiently and support various operations such as slicing, sorting, and iteration. Lists, for example, can store multiple items of different types and can be modified easily, while tuples are immutable and used to store constant data. Control structures such as if-else statements, for loops, and while loops make Python code readable and expressive. The use of indentation ensures that code is visually clear and properly structured.'), Document(metadata={'source': 'data/python.txt'}, page_content='Functions are a fundamental part of Python, enabling code reusability and organization. They are defined using the ‘def’ keyword and can return values using the ‘return’ statement. Python also supports anonymous or lambda functions, which are short, single-line functions often used for functional programming. Modules allow programmers to divide code into separate files for better organization. Python’s extensive collection of built-in and third-party modules makes it easy to expand functionality.\\n\\nPython also supports object-oriented programming (OOP), which structures programs using classes and objects. OOP promotes code reusability through concepts such as inheritance, encapsulation, and polymorphism. For example, a base class like “Animal” can be extended by derived classes like “Dog” or “Cat,” each defining its specific behavior while reusing the base structure. This makes Python well-suited for large, complex applications.'), Document(metadata={'source': 'data/python.txt'}, page_content='Python has found applications in almost every area of technology. In web development, frameworks such as Django, Flask, and FastAPI are used to create scalable, secure, and dynamic web applications. In data science and machine learning, Python dominates due to libraries such as NumPy and Pandas for data manipulation, Matplotlib and Seaborn for visualization, and Scikit-learn, TensorFlow, and PyTorch for machine learning and deep learning. Python is also widely used for automation and scripting, allowing users to automate repetitive tasks such as file handling, web scraping, and data entry with libraries like Selenium and BeautifulSoup. In game development, Python provides tools like Pygame for building 2D games. In cybersecurity and ethical hacking, it helps develop scanning tools, analyze network traffic, and perform penetration testing. In scientific computing, Python is used in physics, chemistry, and biology for simulations and modeling through libraries like SciPy and SymPy. It'), Document(metadata={'source': 'data/python.txt'}, page_content='network traffic, and perform penetration testing. In scientific computing, Python is used in physics, chemistry, and biology for simulations and modeling through libraries like SciPy and SymPy. It also plays an important role in the Internet of Things (IoT) using devices like Raspberry Pi. Additionally, Python is increasingly used in finance and business analytics for algorithmic trading, predictive analysis, and data visualization.'), Document(metadata={'source': 'data/python.txt'}, page_content='Python has several advantages that have contributed to its immense popularity. It is simple, versatile, and easy to learn, making it suitable for both beginners and professionals. Its extensive libraries and frameworks make development faster and easier. The language enhances productivity because programs can be written with fewer lines of code. The strong community support ensures that solutions and resources are always available. Python’s ability to integrate with other languages also makes it highly adaptable. However, Python has some limitations as well. It is slower compared to compiled languages like C++ or Java because it is interpreted. It is not widely used for mobile app development due to limited support. Python also consumes more memory, which may not be ideal for resource-constrained systems. Additionally, since Python is dynamically typed, some errors may only appear at runtime.'), Document(metadata={'source': 'data/python.txt'}, page_content='Despite these drawbacks, Python’s advantages far outweigh its limitations. Its simplicity and flexibility make it a preferred choice for rapid development and prototyping. Python’s dominance in data science, AI, and automation ensures that it remains one of the most in-demand skills in the tech industry.\\n\\nPython has also become an important tool in education and research. Its readability and simplicity make it ideal for teaching programming concepts to students. Many universities and schools have adopted Python as the first programming language for beginners. In academic research, Python is widely used for simulations, data analysis, and visualization. Tools like Jupyter Notebook have made it easier for researchers to write, execute, and document code interactively, combining code, text, and visualizations in a single environment.'), Document(metadata={'source': 'data/python.txt'}, page_content='The future of Python looks extremely promising. With the rise of artificial intelligence, machine learning, cloud computing, and automation, Python’s relevance is only expected to grow. The Python Software Foundation and the open-source community continuously improve its performance and features. Efforts like PyPy, which aims to speed up execution, and new languages like Mojo, which blend Python’s syntax with high performance, indicate that Python will continue evolving. Python is also playing a growing role in emerging fields like quantum computing, robotics, and blockchain technologies. Its adaptability ensures that it will remain a major force in software development for many years to come.'), Document(metadata={'source': 'data/python.txt'}, page_content='In conclusion, Python is much more than just a programming language. It represents a philosophy that values simplicity, readability, and community. From small scripts to large-scale enterprise applications, Python provides the flexibility and power to bring ideas to life. Its combination of simplicity, scalability, and strong community support has made it the language of choice for millions of developers worldwide. Whether someone is building a website, analyzing data, training a machine learning model, or automating daily tasks, Python offers the tools to make it possible. Its easy learning curve makes it perfect for beginners, while its vast capabilities attract professionals and researchers alike. In every sense, Python has revolutionized the world of programming and continues to drive innovation across industries. It stands as a language that bridges the gap between human understanding and machine logic, embodying the idea of making programming accessible to everyone.')]\n"
          ]
        }
      ]
    },
    {
      "cell_type": "markdown",
      "source": [
        "###Embedding of Model using open Source model"
      ],
      "metadata": {
        "id": "hdQPYnfolHed"
      }
    },
    {
      "cell_type": "code",
      "source": [
        "!pip install sentence-transformers\n",
        "!pip install chromadb"
      ],
      "metadata": {
        "colab": {
          "base_uri": "https://localhost:8080/"
        },
        "id": "qe9B-OMelWFm",
        "outputId": "0cd61dbe-bb3c-4aa8-a393-a8b34f09d62d"
      },
      "execution_count": null,
      "outputs": [
        {
          "output_type": "stream",
          "name": "stdout",
          "text": [
            "Requirement already satisfied: sentence-transformers in /usr/local/lib/python3.12/dist-packages (5.1.1)\n",
            "Requirement already satisfied: transformers<5.0.0,>=4.41.0 in /usr/local/lib/python3.12/dist-packages (from sentence-transformers) (4.57.0)\n",
            "Requirement already satisfied: tqdm in /usr/local/lib/python3.12/dist-packages (from sentence-transformers) (4.67.1)\n",
            "Requirement already satisfied: torch>=1.11.0 in /usr/local/lib/python3.12/dist-packages (from sentence-transformers) (2.8.0+cu126)\n",
            "Requirement already satisfied: scikit-learn in /usr/local/lib/python3.12/dist-packages (from sentence-transformers) (1.6.1)\n",
            "Requirement already satisfied: scipy in /usr/local/lib/python3.12/dist-packages (from sentence-transformers) (1.16.2)\n",
            "Requirement already satisfied: huggingface-hub>=0.20.0 in /usr/local/lib/python3.12/dist-packages (from sentence-transformers) (0.35.3)\n",
            "Requirement already satisfied: Pillow in /usr/local/lib/python3.12/dist-packages (from sentence-transformers) (11.3.0)\n",
            "Requirement already satisfied: typing_extensions>=4.5.0 in /usr/local/lib/python3.12/dist-packages (from sentence-transformers) (4.15.0)\n",
            "Requirement already satisfied: filelock in /usr/local/lib/python3.12/dist-packages (from huggingface-hub>=0.20.0->sentence-transformers) (3.20.0)\n",
            "Requirement already satisfied: fsspec>=2023.5.0 in /usr/local/lib/python3.12/dist-packages (from huggingface-hub>=0.20.0->sentence-transformers) (2025.3.0)\n",
            "Requirement already satisfied: packaging>=20.9 in /usr/local/lib/python3.12/dist-packages (from huggingface-hub>=0.20.0->sentence-transformers) (25.0)\n",
            "Requirement already satisfied: pyyaml>=5.1 in /usr/local/lib/python3.12/dist-packages (from huggingface-hub>=0.20.0->sentence-transformers) (6.0.3)\n",
            "Requirement already satisfied: requests in /usr/local/lib/python3.12/dist-packages (from huggingface-hub>=0.20.0->sentence-transformers) (2.32.5)\n",
            "Requirement already satisfied: hf-xet<2.0.0,>=1.1.3 in /usr/local/lib/python3.12/dist-packages (from huggingface-hub>=0.20.0->sentence-transformers) (1.1.10)\n",
            "Requirement already satisfied: setuptools in /usr/local/lib/python3.12/dist-packages (from torch>=1.11.0->sentence-transformers) (75.2.0)\n",
            "Requirement already satisfied: sympy>=1.13.3 in /usr/local/lib/python3.12/dist-packages (from torch>=1.11.0->sentence-transformers) (1.13.3)\n",
            "Requirement already satisfied: networkx in /usr/local/lib/python3.12/dist-packages (from torch>=1.11.0->sentence-transformers) (3.5)\n",
            "Requirement already satisfied: jinja2 in /usr/local/lib/python3.12/dist-packages (from torch>=1.11.0->sentence-transformers) (3.1.6)\n",
            "Requirement already satisfied: nvidia-cuda-nvrtc-cu12==12.6.77 in /usr/local/lib/python3.12/dist-packages (from torch>=1.11.0->sentence-transformers) (12.6.77)\n",
            "Requirement already satisfied: nvidia-cuda-runtime-cu12==12.6.77 in /usr/local/lib/python3.12/dist-packages (from torch>=1.11.0->sentence-transformers) (12.6.77)\n",
            "Requirement already satisfied: nvidia-cuda-cupti-cu12==12.6.80 in /usr/local/lib/python3.12/dist-packages (from torch>=1.11.0->sentence-transformers) (12.6.80)\n",
            "Requirement already satisfied: nvidia-cudnn-cu12==9.10.2.21 in /usr/local/lib/python3.12/dist-packages (from torch>=1.11.0->sentence-transformers) (9.10.2.21)\n",
            "Requirement already satisfied: nvidia-cublas-cu12==12.6.4.1 in /usr/local/lib/python3.12/dist-packages (from torch>=1.11.0->sentence-transformers) (12.6.4.1)\n",
            "Requirement already satisfied: nvidia-cufft-cu12==11.3.0.4 in /usr/local/lib/python3.12/dist-packages (from torch>=1.11.0->sentence-transformers) (11.3.0.4)\n",
            "Requirement already satisfied: nvidia-curand-cu12==10.3.7.77 in /usr/local/lib/python3.12/dist-packages (from torch>=1.11.0->sentence-transformers) (10.3.7.77)\n",
            "Requirement already satisfied: nvidia-cusolver-cu12==11.7.1.2 in /usr/local/lib/python3.12/dist-packages (from torch>=1.11.0->sentence-transformers) (11.7.1.2)\n",
            "Requirement already satisfied: nvidia-cusparse-cu12==12.5.4.2 in /usr/local/lib/python3.12/dist-packages (from torch>=1.11.0->sentence-transformers) (12.5.4.2)\n",
            "Requirement already satisfied: nvidia-cusparselt-cu12==0.7.1 in /usr/local/lib/python3.12/dist-packages (from torch>=1.11.0->sentence-transformers) (0.7.1)\n",
            "Requirement already satisfied: nvidia-nccl-cu12==2.27.3 in /usr/local/lib/python3.12/dist-packages (from torch>=1.11.0->sentence-transformers) (2.27.3)\n",
            "Requirement already satisfied: nvidia-nvtx-cu12==12.6.77 in /usr/local/lib/python3.12/dist-packages (from torch>=1.11.0->sentence-transformers) (12.6.77)\n",
            "Requirement already satisfied: nvidia-nvjitlink-cu12==12.6.85 in /usr/local/lib/python3.12/dist-packages (from torch>=1.11.0->sentence-transformers) (12.6.85)\n",
            "Requirement already satisfied: nvidia-cufile-cu12==1.11.1.6 in /usr/local/lib/python3.12/dist-packages (from torch>=1.11.0->sentence-transformers) (1.11.1.6)\n",
            "Requirement already satisfied: triton==3.4.0 in /usr/local/lib/python3.12/dist-packages (from torch>=1.11.0->sentence-transformers) (3.4.0)\n",
            "Requirement already satisfied: numpy>=1.17 in /usr/local/lib/python3.12/dist-packages (from transformers<5.0.0,>=4.41.0->sentence-transformers) (2.0.2)\n",
            "Requirement already satisfied: regex!=2019.12.17 in /usr/local/lib/python3.12/dist-packages (from transformers<5.0.0,>=4.41.0->sentence-transformers) (2024.11.6)\n",
            "Requirement already satisfied: tokenizers<=0.23.0,>=0.22.0 in /usr/local/lib/python3.12/dist-packages (from transformers<5.0.0,>=4.41.0->sentence-transformers) (0.22.1)\n",
            "Requirement already satisfied: safetensors>=0.4.3 in /usr/local/lib/python3.12/dist-packages (from transformers<5.0.0,>=4.41.0->sentence-transformers) (0.6.2)\n",
            "Requirement already satisfied: joblib>=1.2.0 in /usr/local/lib/python3.12/dist-packages (from scikit-learn->sentence-transformers) (1.5.2)\n",
            "Requirement already satisfied: threadpoolctl>=3.1.0 in /usr/local/lib/python3.12/dist-packages (from scikit-learn->sentence-transformers) (3.6.0)\n",
            "Requirement already satisfied: mpmath<1.4,>=1.1.0 in /usr/local/lib/python3.12/dist-packages (from sympy>=1.13.3->torch>=1.11.0->sentence-transformers) (1.3.0)\n",
            "Requirement already satisfied: MarkupSafe>=2.0 in /usr/local/lib/python3.12/dist-packages (from jinja2->torch>=1.11.0->sentence-transformers) (3.0.3)\n",
            "Requirement already satisfied: charset_normalizer<4,>=2 in /usr/local/lib/python3.12/dist-packages (from requests->huggingface-hub>=0.20.0->sentence-transformers) (3.4.3)\n",
            "Requirement already satisfied: idna<4,>=2.5 in /usr/local/lib/python3.12/dist-packages (from requests->huggingface-hub>=0.20.0->sentence-transformers) (3.10)\n",
            "Requirement already satisfied: urllib3<3,>=1.21.1 in /usr/local/lib/python3.12/dist-packages (from requests->huggingface-hub>=0.20.0->sentence-transformers) (2.3.0)\n",
            "Requirement already satisfied: certifi>=2017.4.17 in /usr/local/lib/python3.12/dist-packages (from requests->huggingface-hub>=0.20.0->sentence-transformers) (2025.10.5)\n",
            "Requirement already satisfied: chromadb in /usr/local/lib/python3.12/dist-packages (1.1.1)\n",
            "Requirement already satisfied: build>=1.0.3 in /usr/local/lib/python3.12/dist-packages (from chromadb) (1.3.0)\n",
            "Requirement already satisfied: pydantic>=1.9 in /usr/local/lib/python3.12/dist-packages (from chromadb) (2.11.10)\n",
            "Requirement already satisfied: pybase64>=1.4.1 in /usr/local/lib/python3.12/dist-packages (from chromadb) (1.4.2)\n",
            "Requirement already satisfied: uvicorn>=0.18.3 in /usr/local/lib/python3.12/dist-packages (from uvicorn[standard]>=0.18.3->chromadb) (0.37.0)\n",
            "Requirement already satisfied: numpy>=1.22.5 in /usr/local/lib/python3.12/dist-packages (from chromadb) (2.0.2)\n",
            "Requirement already satisfied: posthog<6.0.0,>=2.4.0 in /usr/local/lib/python3.12/dist-packages (from chromadb) (5.4.0)\n",
            "Requirement already satisfied: typing-extensions>=4.5.0 in /usr/local/lib/python3.12/dist-packages (from chromadb) (4.15.0)\n",
            "Requirement already satisfied: onnxruntime>=1.14.1 in /usr/local/lib/python3.12/dist-packages (from chromadb) (1.23.1)\n",
            "Requirement already satisfied: opentelemetry-api>=1.2.0 in /usr/local/lib/python3.12/dist-packages (from chromadb) (1.37.0)\n",
            "Requirement already satisfied: opentelemetry-exporter-otlp-proto-grpc>=1.2.0 in /usr/local/lib/python3.12/dist-packages (from chromadb) (1.37.0)\n",
            "Requirement already satisfied: opentelemetry-sdk>=1.2.0 in /usr/local/lib/python3.12/dist-packages (from chromadb) (1.37.0)\n",
            "Requirement already satisfied: tokenizers>=0.13.2 in /usr/local/lib/python3.12/dist-packages (from chromadb) (0.22.1)\n",
            "Requirement already satisfied: pypika>=0.48.9 in /usr/local/lib/python3.12/dist-packages (from chromadb) (0.48.9)\n",
            "Requirement already satisfied: tqdm>=4.65.0 in /usr/local/lib/python3.12/dist-packages (from chromadb) (4.67.1)\n",
            "Requirement already satisfied: overrides>=7.3.1 in /usr/local/lib/python3.12/dist-packages (from chromadb) (7.7.0)\n",
            "Requirement already satisfied: importlib-resources in /usr/local/lib/python3.12/dist-packages (from chromadb) (6.5.2)\n",
            "Requirement already satisfied: grpcio>=1.58.0 in /usr/local/lib/python3.12/dist-packages (from chromadb) (1.75.1)\n",
            "Requirement already satisfied: bcrypt>=4.0.1 in /usr/local/lib/python3.12/dist-packages (from chromadb) (5.0.0)\n",
            "Requirement already satisfied: typer>=0.9.0 in /usr/local/lib/python3.12/dist-packages (from chromadb) (0.19.2)\n",
            "Requirement already satisfied: kubernetes>=28.1.0 in /usr/local/lib/python3.12/dist-packages (from chromadb) (34.1.0)\n",
            "Requirement already satisfied: tenacity>=8.2.3 in /usr/local/lib/python3.12/dist-packages (from chromadb) (8.5.0)\n",
            "Requirement already satisfied: pyyaml>=6.0.0 in /usr/local/lib/python3.12/dist-packages (from chromadb) (6.0.3)\n",
            "Requirement already satisfied: mmh3>=4.0.1 in /usr/local/lib/python3.12/dist-packages (from chromadb) (5.2.0)\n",
            "Requirement already satisfied: orjson>=3.9.12 in /usr/local/lib/python3.12/dist-packages (from chromadb) (3.11.3)\n",
            "Requirement already satisfied: httpx>=0.27.0 in /usr/local/lib/python3.12/dist-packages (from chromadb) (0.28.1)\n",
            "Requirement already satisfied: rich>=10.11.0 in /usr/local/lib/python3.12/dist-packages (from chromadb) (13.9.4)\n",
            "Requirement already satisfied: jsonschema>=4.19.0 in /usr/local/lib/python3.12/dist-packages (from chromadb) (4.25.1)\n",
            "Requirement already satisfied: packaging>=19.1 in /usr/local/lib/python3.12/dist-packages (from build>=1.0.3->chromadb) (25.0)\n",
            "Requirement already satisfied: pyproject_hooks in /usr/local/lib/python3.12/dist-packages (from build>=1.0.3->chromadb) (1.2.0)\n",
            "Requirement already satisfied: anyio in /usr/local/lib/python3.12/dist-packages (from httpx>=0.27.0->chromadb) (4.11.0)\n",
            "Requirement already satisfied: certifi in /usr/local/lib/python3.12/dist-packages (from httpx>=0.27.0->chromadb) (2025.10.5)\n",
            "Requirement already satisfied: httpcore==1.* in /usr/local/lib/python3.12/dist-packages (from httpx>=0.27.0->chromadb) (1.0.9)\n",
            "Requirement already satisfied: idna in /usr/local/lib/python3.12/dist-packages (from httpx>=0.27.0->chromadb) (3.10)\n",
            "Requirement already satisfied: h11>=0.16 in /usr/local/lib/python3.12/dist-packages (from httpcore==1.*->httpx>=0.27.0->chromadb) (0.16.0)\n",
            "Requirement already satisfied: attrs>=22.2.0 in /usr/local/lib/python3.12/dist-packages (from jsonschema>=4.19.0->chromadb) (25.4.0)\n",
            "Requirement already satisfied: jsonschema-specifications>=2023.03.6 in /usr/local/lib/python3.12/dist-packages (from jsonschema>=4.19.0->chromadb) (2025.9.1)\n",
            "Requirement already satisfied: referencing>=0.28.4 in /usr/local/lib/python3.12/dist-packages (from jsonschema>=4.19.0->chromadb) (0.36.2)\n",
            "Requirement already satisfied: rpds-py>=0.7.1 in /usr/local/lib/python3.12/dist-packages (from jsonschema>=4.19.0->chromadb) (0.27.1)\n",
            "Requirement already satisfied: six>=1.9.0 in /usr/local/lib/python3.12/dist-packages (from kubernetes>=28.1.0->chromadb) (1.17.0)\n",
            "Requirement already satisfied: python-dateutil>=2.5.3 in /usr/local/lib/python3.12/dist-packages (from kubernetes>=28.1.0->chromadb) (2.9.0.post0)\n",
            "Requirement already satisfied: google-auth>=1.0.1 in /usr/local/lib/python3.12/dist-packages (from kubernetes>=28.1.0->chromadb) (2.38.0)\n",
            "Requirement already satisfied: websocket-client!=0.40.0,!=0.41.*,!=0.42.*,>=0.32.0 in /usr/local/lib/python3.12/dist-packages (from kubernetes>=28.1.0->chromadb) (1.9.0)\n",
            "Requirement already satisfied: requests in /usr/local/lib/python3.12/dist-packages (from kubernetes>=28.1.0->chromadb) (2.32.5)\n",
            "Requirement already satisfied: requests-oauthlib in /usr/local/lib/python3.12/dist-packages (from kubernetes>=28.1.0->chromadb) (2.0.0)\n",
            "Requirement already satisfied: urllib3<2.4.0,>=1.24.2 in /usr/local/lib/python3.12/dist-packages (from kubernetes>=28.1.0->chromadb) (2.3.0)\n",
            "Requirement already satisfied: durationpy>=0.7 in /usr/local/lib/python3.12/dist-packages (from kubernetes>=28.1.0->chromadb) (0.10)\n",
            "Requirement already satisfied: coloredlogs in /usr/local/lib/python3.12/dist-packages (from onnxruntime>=1.14.1->chromadb) (15.0.1)\n",
            "Requirement already satisfied: flatbuffers in /usr/local/lib/python3.12/dist-packages (from onnxruntime>=1.14.1->chromadb) (25.9.23)\n",
            "Requirement already satisfied: protobuf in /usr/local/lib/python3.12/dist-packages (from onnxruntime>=1.14.1->chromadb) (5.29.5)\n",
            "Requirement already satisfied: sympy in /usr/local/lib/python3.12/dist-packages (from onnxruntime>=1.14.1->chromadb) (1.13.3)\n",
            "Requirement already satisfied: importlib-metadata<8.8.0,>=6.0 in /usr/local/lib/python3.12/dist-packages (from opentelemetry-api>=1.2.0->chromadb) (8.7.0)\n",
            "Requirement already satisfied: googleapis-common-protos~=1.57 in /usr/local/lib/python3.12/dist-packages (from opentelemetry-exporter-otlp-proto-grpc>=1.2.0->chromadb) (1.70.0)\n",
            "Requirement already satisfied: opentelemetry-exporter-otlp-proto-common==1.37.0 in /usr/local/lib/python3.12/dist-packages (from opentelemetry-exporter-otlp-proto-grpc>=1.2.0->chromadb) (1.37.0)\n",
            "Requirement already satisfied: opentelemetry-proto==1.37.0 in /usr/local/lib/python3.12/dist-packages (from opentelemetry-exporter-otlp-proto-grpc>=1.2.0->chromadb) (1.37.0)\n",
            "Requirement already satisfied: opentelemetry-semantic-conventions==0.58b0 in /usr/local/lib/python3.12/dist-packages (from opentelemetry-sdk>=1.2.0->chromadb) (0.58b0)\n",
            "Requirement already satisfied: backoff>=1.10.0 in /usr/local/lib/python3.12/dist-packages (from posthog<6.0.0,>=2.4.0->chromadb) (2.2.1)\n",
            "Requirement already satisfied: distro>=1.5.0 in /usr/local/lib/python3.12/dist-packages (from posthog<6.0.0,>=2.4.0->chromadb) (1.9.0)\n",
            "Requirement already satisfied: annotated-types>=0.6.0 in /usr/local/lib/python3.12/dist-packages (from pydantic>=1.9->chromadb) (0.7.0)\n",
            "Requirement already satisfied: pydantic-core==2.33.2 in /usr/local/lib/python3.12/dist-packages (from pydantic>=1.9->chromadb) (2.33.2)\n",
            "Requirement already satisfied: typing-inspection>=0.4.0 in /usr/local/lib/python3.12/dist-packages (from pydantic>=1.9->chromadb) (0.4.2)\n",
            "Requirement already satisfied: markdown-it-py>=2.2.0 in /usr/local/lib/python3.12/dist-packages (from rich>=10.11.0->chromadb) (4.0.0)\n",
            "Requirement already satisfied: pygments<3.0.0,>=2.13.0 in /usr/local/lib/python3.12/dist-packages (from rich>=10.11.0->chromadb) (2.19.2)\n",
            "Requirement already satisfied: huggingface-hub<2.0,>=0.16.4 in /usr/local/lib/python3.12/dist-packages (from tokenizers>=0.13.2->chromadb) (0.35.3)\n",
            "Requirement already satisfied: click>=8.0.0 in /usr/local/lib/python3.12/dist-packages (from typer>=0.9.0->chromadb) (8.3.0)\n",
            "Requirement already satisfied: shellingham>=1.3.0 in /usr/local/lib/python3.12/dist-packages (from typer>=0.9.0->chromadb) (1.5.4)\n",
            "Requirement already satisfied: httptools>=0.6.3 in /usr/local/lib/python3.12/dist-packages (from uvicorn[standard]>=0.18.3->chromadb) (0.7.1)\n",
            "Requirement already satisfied: python-dotenv>=0.13 in /usr/local/lib/python3.12/dist-packages (from uvicorn[standard]>=0.18.3->chromadb) (1.1.1)\n",
            "Requirement already satisfied: uvloop>=0.15.1 in /usr/local/lib/python3.12/dist-packages (from uvicorn[standard]>=0.18.3->chromadb) (0.21.0)\n",
            "Requirement already satisfied: watchfiles>=0.13 in /usr/local/lib/python3.12/dist-packages (from uvicorn[standard]>=0.18.3->chromadb) (1.1.0)\n",
            "Requirement already satisfied: websockets>=10.4 in /usr/local/lib/python3.12/dist-packages (from uvicorn[standard]>=0.18.3->chromadb) (15.0.1)\n",
            "Requirement already satisfied: cachetools<6.0,>=2.0.0 in /usr/local/lib/python3.12/dist-packages (from google-auth>=1.0.1->kubernetes>=28.1.0->chromadb) (5.5.2)\n",
            "Requirement already satisfied: pyasn1-modules>=0.2.1 in /usr/local/lib/python3.12/dist-packages (from google-auth>=1.0.1->kubernetes>=28.1.0->chromadb) (0.4.2)\n",
            "Requirement already satisfied: rsa<5,>=3.1.4 in /usr/local/lib/python3.12/dist-packages (from google-auth>=1.0.1->kubernetes>=28.1.0->chromadb) (4.9.1)\n",
            "Requirement already satisfied: filelock in /usr/local/lib/python3.12/dist-packages (from huggingface-hub<2.0,>=0.16.4->tokenizers>=0.13.2->chromadb) (3.20.0)\n",
            "Requirement already satisfied: fsspec>=2023.5.0 in /usr/local/lib/python3.12/dist-packages (from huggingface-hub<2.0,>=0.16.4->tokenizers>=0.13.2->chromadb) (2025.3.0)\n",
            "Requirement already satisfied: hf-xet<2.0.0,>=1.1.3 in /usr/local/lib/python3.12/dist-packages (from huggingface-hub<2.0,>=0.16.4->tokenizers>=0.13.2->chromadb) (1.1.10)\n",
            "Requirement already satisfied: zipp>=3.20 in /usr/local/lib/python3.12/dist-packages (from importlib-metadata<8.8.0,>=6.0->opentelemetry-api>=1.2.0->chromadb) (3.23.0)\n",
            "Requirement already satisfied: mdurl~=0.1 in /usr/local/lib/python3.12/dist-packages (from markdown-it-py>=2.2.0->rich>=10.11.0->chromadb) (0.1.2)\n",
            "Requirement already satisfied: charset_normalizer<4,>=2 in /usr/local/lib/python3.12/dist-packages (from requests->kubernetes>=28.1.0->chromadb) (3.4.3)\n",
            "Requirement already satisfied: sniffio>=1.1 in /usr/local/lib/python3.12/dist-packages (from anyio->httpx>=0.27.0->chromadb) (1.3.1)\n",
            "Requirement already satisfied: humanfriendly>=9.1 in /usr/local/lib/python3.12/dist-packages (from coloredlogs->onnxruntime>=1.14.1->chromadb) (10.0)\n",
            "Requirement already satisfied: oauthlib>=3.0.0 in /usr/local/lib/python3.12/dist-packages (from requests-oauthlib->kubernetes>=28.1.0->chromadb) (3.3.1)\n",
            "Requirement already satisfied: mpmath<1.4,>=1.1.0 in /usr/local/lib/python3.12/dist-packages (from sympy->onnxruntime>=1.14.1->chromadb) (1.3.0)\n",
            "Requirement already satisfied: pyasn1<0.7.0,>=0.6.1 in /usr/local/lib/python3.12/dist-packages (from pyasn1-modules>=0.2.1->google-auth>=1.0.1->kubernetes>=28.1.0->chromadb) (0.6.1)\n"
          ]
        }
      ]
    },
    {
      "cell_type": "code",
      "source": [
        "import numpy as np\n",
        "from sentence_transformers import SentenceTransformer\n",
        "import chromadb\n",
        "from chromadb.config import Settings\n",
        "import uuid\n",
        "from typing import List,Dict,Any,Tuple\n",
        "from sklearn.metrics.pairwise import cosine_similarity"
      ],
      "metadata": {
        "id": "b3yLpo_xmJor"
      },
      "execution_count": null,
      "outputs": []
    },
    {
      "cell_type": "code",
      "source": [
        "class EmbeddingManager:\n",
        "  \"\"\"Handles document embedding geneeration using SentenceTransformer\"\"\"\n",
        "  def __init__(self, model_name:str = \"all-MiniLM-L6-v2\"):\n",
        "    \"\"\"Initialize the embedding manager\"\"\"\n",
        "    self.model = SentenceTransformer(model_name)\n",
        "    self.model = None\n",
        "    self._load_model()\n",
        "\n",
        "  def _load_model(self):\n",
        "    \"\"\"Load the SentenceTransformer model\"\"\"\n",
        "    try:\n",
        "        self.model = SentenceTransformer(\"all-MiniLM-L6-v2\")\n",
        "        print(f\"Model loaded successfully . Embedding dimension is {self.model.get_sentence_embedding_dimension()}\")\n",
        "\n",
        "    except Exception as e:\n",
        "        print(f\"Error loading model{self.model_name}: {e}\")\n",
        "        raise\n",
        "\n",
        "  def generate_embeddings(self,texts:List[str]) -> np.ndarray:\n",
        "    \"\"\"Generate embeddings for a list of texts\"\"\"\n",
        "    if not self.model:\n",
        "      raise ValueError(\"Model not loaded\")\n",
        "\n",
        "    print(f\"Generating embeddings for {len(texts)} texts\")\n",
        "    embeddings = self.model.encode(texts,show_progress_bar=True)\n",
        "    print(f\"Generated Embedings with shape : {embeddings.shape}\")\n",
        "    return embeddings\n",
        "\n",
        "\n"
      ],
      "metadata": {
        "id": "GnnA8EfJm34V"
      },
      "execution_count": null,
      "outputs": []
    },
    {
      "cell_type": "code",
      "source": [
        "## Initialize the embedding manager\n",
        "embedding_manager = EmbeddingManager()"
      ],
      "metadata": {
        "colab": {
          "base_uri": "https://localhost:8080/"
        },
        "id": "bVdkSb1ZsoIU",
        "outputId": "5a73a8b6-4432-4936-b2e5-f21d7b064b9e"
      },
      "execution_count": null,
      "outputs": [
        {
          "output_type": "stream",
          "name": "stdout",
          "text": [
            "Model loaded successfully . Embedding dimension is 384\n"
          ]
        }
      ]
    },
    {
      "cell_type": "markdown",
      "source": [
        "###Vector Store"
      ],
      "metadata": {
        "id": "lcfpULDntOes"
      }
    },
    {
      "cell_type": "code",
      "source": [
        "class VectorStore:\n",
        "  \"\"\"Manages document embedding in a chromaDB vector store\"\"\"\n",
        "\n",
        "  def __init__(self,collection_name:str=\"pdf_documents\",persist_directory:str=\"/data\"):\n",
        "    \"\"\"Initialize the vector store\"\"\"\n",
        "    self.collection_name = collection_name\n",
        "    self.persist_directory = persist_directory\n",
        "    self.client = None\n",
        "    self.collection = None\n",
        "    self._initialize_store()\n",
        "\n",
        "  def _initialize_store(self):\n",
        "    \"\"\"Initialize the chromaDB client and collection\"\"\"\n",
        "    try:\n",
        "      os.makedirs(self.persist_directory,exist_ok=True)\n",
        "      self.client = chromadb.PersistentClient(path=self.persist_directory)\n",
        "      self.collection = self.client.get_or_create_collection(\n",
        "          name=self.collection_name,\n",
        "          metadata={\"description\":\"PDF Document embedding for RAG\"}\n",
        "      )\n",
        "    except Exception as e:\n",
        "      print(f\"Error initializing vector store: {e}\")\n",
        "      raise\n",
        "\n",
        "  def add_documents(self,documents:list[Any],embeddings:np.ndarray):\n",
        "    \"\"\"Add documents to the vector store\"\"\"\n",
        "\n",
        "    if len(documents) != len(embeddings):\n",
        "      raise ValueError(\"Number of documents and embeddings must be equal\")\n",
        "\n",
        "    print(f\"Adding {len(documents)} documents to the vector store\")\n",
        "\n",
        "    # Prepare data for ChromaDB\n",
        "    ids = []\n",
        "    metadatas = []\n",
        "    documents_list = []\n",
        "    embeddings_list = []\n",
        "\n",
        "    for i,(doc,embedding) in enumerate(zip(documents,embeddings)):\n",
        "      ## Generate unique Id\n",
        "      ids.append(str(uuid.uuid4()))\n",
        "\n",
        "      # Prepare Metadata\n",
        "      metadatas.append({\"source\":doc.metadata[\"source\"]})\n",
        "\n",
        "      # Document content\n",
        "      documents_list.append(doc.page_content)\n",
        "\n",
        "      # Embedding\n",
        "      embeddings_list.append(embedding.tolist())\n",
        "\n",
        "    # Add data to ChromaDB\n",
        "    try:\n",
        "        self.collection.add(\n",
        "            ids=ids,\n",
        "            metadatas=metadatas,\n",
        "            documents=documents_list,\n",
        "            embeddings=embeddings_list\n",
        "            )\n",
        "        print(\"Documents added to the vector store\")\n",
        "        print(f\"Total document in Collection: {self.collection.count()}\")\n",
        "\n",
        "    except Exception as e:\n",
        "        print(f\"Error adding documents to the vector store: {e}\")\n",
        "        raise\n",
        "\n",
        "vectorstore = VectorStore()\n",
        "vectorstore"
      ],
      "metadata": {
        "colab": {
          "base_uri": "https://localhost:8080/"
        },
        "id": "SqFrKfgytOL6",
        "outputId": "3824b882-e265-4b4e-f020-f4a67749a19d"
      },
      "execution_count": null,
      "outputs": [
        {
          "output_type": "execute_result",
          "data": {
            "text/plain": [
              "<__main__.VectorStore at 0x7ec366debe60>"
            ]
          },
          "metadata": {},
          "execution_count": 42
        }
      ]
    },
    {
      "cell_type": "markdown",
      "source": [
        "Now the vector store is created and we will store chunks now"
      ],
      "metadata": {
        "id": "yCDdppDh55rA"
      }
    },
    {
      "cell_type": "code",
      "source": [
        "### Convert the text to embeddings\n",
        "texts = [doc.page_content for doc in chunks]\n",
        "\n",
        "# Generate the Embeddings\n",
        "\n",
        "embeddings = embedding_manager.generate_embeddings(texts)\n",
        "\n",
        "# Store in the vector Database\n",
        "vectorstore.add_documents(chunks,embeddings)"
      ],
      "metadata": {
        "colab": {
          "base_uri": "https://localhost:8080/",
          "height": 136,
          "referenced_widgets": [
            "07ad3234912944169c1ba17a063324c7",
            "796ae86956f24fabbecf5af7e2e58dbf",
            "3a6b8593ca834f64827a830084939f96",
            "04877bf92f12488ab5330ad80f04cb6f",
            "84022c0f008f4677845c9ed83dd0200a",
            "74a43dab55c940ea9e7887c8319a9ea8",
            "0ab0a6980d8b427896cb4b20b7b20325",
            "043201351e644c1a9ad02db927409c91",
            "167f728129aa4f9597358257640801ff",
            "47b5755c87be4c9aba3f68c0f941e4d7",
            "66bdbf4ce38e4c308339ecca5d5fb909"
          ]
        },
        "id": "On7ErIZB6DA_",
        "outputId": "7ca2bcd5-9fd1-4da0-ba17-48a76ffaed98"
      },
      "execution_count": null,
      "outputs": [
        {
          "output_type": "stream",
          "name": "stdout",
          "text": [
            "Generating embeddings for 14 texts\n"
          ]
        },
        {
          "output_type": "display_data",
          "data": {
            "text/plain": [
              "Batches:   0%|          | 0/1 [00:00<?, ?it/s]"
            ],
            "application/vnd.jupyter.widget-view+json": {
              "version_major": 2,
              "version_minor": 0,
              "model_id": "07ad3234912944169c1ba17a063324c7"
            }
          },
          "metadata": {}
        },
        {
          "output_type": "stream",
          "name": "stdout",
          "text": [
            "Generated Embedings with shape : (14, 384)\n",
            "Adding 14 documents to the vector store\n",
            "Documents added to the vector store\n",
            "Total document in Collection: 28\n"
          ]
        }
      ]
    },
    {
      "cell_type": "markdown",
      "source": [
        "### Retriever Pipeline From VectorStore"
      ],
      "metadata": {
        "id": "Hjr8apvx9dAS"
      }
    },
    {
      "cell_type": "code",
      "source": [
        "class RAGRetriver:\n",
        "  \"\"\"Handles query based retriveal from the vector store\"\"\"\n",
        "\n",
        "  def __init__(self,vector_store:VectorStore,embedding_manager:EmbeddingManager):\n",
        "    \"\"\"Initialize the retriever\"\"\"\n",
        "    self.vector_store = vector_store\n",
        "    self.embedding_manager = embedding_manager\n",
        "\n",
        "\n",
        "  def retrieve(self,query:str,top_k:int=5,score_threshold:float=0.0) -> List[Dict[str,Any]]:\n",
        "      \"\"\" Retrieve relevent document for a query \"\"\"\n",
        "      print(f\"Retrieving relevent documents for query: {query}\")\n",
        "      print(f\"Top_k: {top_k}\")\n",
        "      print(f\"Score_threshold: {score_threshold}\")\n",
        "\n",
        "      # Generate query embedding\n",
        "      query_embedding = self.embedding_manager.generate_embeddings([query])[0]\n",
        "\n",
        "\n",
        "      # Search in vector score\n",
        "      try:\n",
        "        results = self.vector_store.collection.query(\n",
        "            query_embeddings=[query_embedding.tolist()],\n",
        "            n_results=top_k,\n",
        "\n",
        "        )\n",
        "\n",
        "        # Process results\n",
        "        retrieved_docs=[]\n",
        "\n",
        "        if results['documents'] and results['documents'][0]:\n",
        "          documents = results['documents'][0]\n",
        "          metadatas = results['metadatas'][0]\n",
        "          scores = results['distances'][0]\n",
        "          ids = results['ids'][0]\n",
        "\n",
        "\n",
        "          for i,(doc_id,document,metadata,distance) in enumerate(zip(ids,documents,metadatas,scores)):\n",
        "            similarity_score = 1-distance\n",
        "\n",
        "\n",
        "            if similarity_score>=score_threshold:\n",
        "              retrieved_docs.append({\n",
        "                  \"id\":doc_id,\n",
        "                  \"document\":document,\n",
        "                  \"metadata\":metadata,\n",
        "                  \"similarity_score\":similarity_score,\n",
        "                  \"distance\":distance,\n",
        "                  \"rank\":i+1\n",
        "              })\n",
        "\n",
        "            print(f\"Retrieved {len(retrieved_docs)} documents (after filtering)\")\n",
        "\n",
        "\n",
        "          return retrieved_docs\n",
        "      except Exception as e:\n",
        "        print(f\"Error retrieving documents: {e}\")\n",
        "        return []\n",
        "\n",
        "rag_retriever = RAGRetriver(vectorstore,embedding_manager)\n",
        "rag_retriever.retrieve('What is object oriented programming')\n",
        "\n",
        "\n"
      ],
      "metadata": {
        "colab": {
          "base_uri": "https://localhost:8080/",
          "height": 847,
          "referenced_widgets": [
            "637eb922238b4cd68deb6a129482f147",
            "e3220b3aa6a34742b7702b3290e56391",
            "10039a0c65a54ff29d6f49691f78f18a",
            "62e14e8bb82243ccb0658fcf090cd5f7",
            "dbfb1218f0904211a9a08608cde2bbd9",
            "9acf956f191241afa8535908aca5f231",
            "c087bfa9abd046dcb2326281b3c635e3",
            "57742020aabc4d0d99fa80a6ec7b163f",
            "3de2354a7e9d492e88445efa499e792e",
            "702746bde5544a59bcdff5d5129ee4d1",
            "7570ee2fe32644c5b9a9f93830b6fa90"
          ]
        },
        "id": "jGG3FBGx9jma",
        "outputId": "249517c4-99c4-46a8-c4d1-d0ed2e01dc16"
      },
      "execution_count": null,
      "outputs": [
        {
          "output_type": "stream",
          "name": "stdout",
          "text": [
            "Retrieving relevent documents for query: What is object oriented programming\n",
            "Top_k: 5\n",
            "Score_threshold: 0.0\n",
            "Generating embeddings for 1 texts\n"
          ]
        },
        {
          "output_type": "display_data",
          "data": {
            "text/plain": [
              "Batches:   0%|          | 0/1 [00:00<?, ?it/s]"
            ],
            "application/vnd.jupyter.widget-view+json": {
              "version_major": 2,
              "version_minor": 0,
              "model_id": "637eb922238b4cd68deb6a129482f147"
            }
          },
          "metadata": {}
        },
        {
          "output_type": "stream",
          "name": "stdout",
          "text": [
            "Generated Embedings with shape : (1, 384)\n",
            "Retrieved 1 documents (after filtering)\n",
            "Retrieved 2 documents (after filtering)\n",
            "Retrieved 2 documents (after filtering)\n",
            "Retrieved 2 documents (after filtering)\n",
            "Retrieved 2 documents (after filtering)\n"
          ]
        },
        {
          "output_type": "execute_result",
          "data": {
            "text/plain": [
              "[{'id': '84fe49e4-feaf-4289-ae7f-c3fd863a129b',\n",
              "  'document': 'Functions are a fundamental part of Python, enabling code reusability and organization. They are defined using the ‘def’ keyword and can return values using the ‘return’ statement. Python also supports anonymous or lambda functions, which are short, single-line functions often used for functional programming. Modules allow programmers to divide code into separate files for better organization. Python’s extensive collection of built-in and third-party modules makes it easy to expand functionality.\\n\\nPython also supports object-oriented programming (OOP), which structures programs using classes and objects. OOP promotes code reusability through concepts such as inheritance, encapsulation, and polymorphism. For example, a base class like “Animal” can be extended by derived classes like “Dog” or “Cat,” each defining its specific behavior while reusing the base structure. This makes Python well-suited for large, complex applications.',\n",
              "  'metadata': {'source': 'data/python.txt'},\n",
              "  'similarity_score': 0.08538979291915894,\n",
              "  'distance': 0.9146102070808411,\n",
              "  'rank': 1},\n",
              " {'id': 'd3fe0d0f-3e1a-42f0-bcdf-e9338a63b318',\n",
              "  'document': 'Functions are a fundamental part of Python, enabling code reusability and organization. They are defined using the ‘def’ keyword and can return values using the ‘return’ statement. Python also supports anonymous or lambda functions, which are short, single-line functions often used for functional programming. Modules allow programmers to divide code into separate files for better organization. Python’s extensive collection of built-in and third-party modules makes it easy to expand functionality.\\n\\nPython also supports object-oriented programming (OOP), which structures programs using classes and objects. OOP promotes code reusability through concepts such as inheritance, encapsulation, and polymorphism. For example, a base class like “Animal” can be extended by derived classes like “Dog” or “Cat,” each defining its specific behavior while reusing the base structure. This makes Python well-suited for large, complex applications.',\n",
              "  'metadata': {'source': 'data/python.txt'},\n",
              "  'similarity_score': 0.08538979291915894,\n",
              "  'distance': 0.9146102070808411,\n",
              "  'rank': 2}]"
            ]
          },
          "metadata": {},
          "execution_count": 44
        }
      ]
    },
    {
      "cell_type": "markdown",
      "source": [
        "### Integration vectorDB context pipeline with LLM output"
      ],
      "metadata": {
        "id": "YWVXTuo-DezL"
      }
    },
    {
      "cell_type": "code",
      "source": [
        " ## Simple RAG Pipeline with gemini LLM\n",
        "\n",
        "!pip install -U langchain-google-genai\n",
        "import getpass\n",
        "import os\n",
        "\n",
        "if \"GOOGLE_API_KEY\" not in os.environ:\n",
        "    os.environ[\"GOOGLE_API_KEY\"] = getpass.getpass(\"Enter your Google AI API key: \")\n",
        "\n"
      ],
      "metadata": {
        "colab": {
          "base_uri": "https://localhost:8080/"
        },
        "id": "mL1x-dObFvQ9",
        "outputId": "0121aba2-e7d9-4810-8afe-c4ee07f5855d"
      },
      "execution_count": null,
      "outputs": [
        {
          "output_type": "stream",
          "name": "stdout",
          "text": [
            "Requirement already satisfied: langchain-google-genai in /usr/local/lib/python3.12/dist-packages (2.1.12)\n",
            "Requirement already satisfied: langchain-core>=0.3.75 in /usr/local/lib/python3.12/dist-packages (from langchain-google-genai) (0.3.78)\n",
            "Requirement already satisfied: google-ai-generativelanguage<1,>=0.7 in /usr/local/lib/python3.12/dist-packages (from langchain-google-genai) (0.7.0)\n",
            "Requirement already satisfied: pydantic<3,>=2 in /usr/local/lib/python3.12/dist-packages (from langchain-google-genai) (2.11.10)\n",
            "Requirement already satisfied: filetype<2,>=1.2 in /usr/local/lib/python3.12/dist-packages (from langchain-google-genai) (1.2.0)\n",
            "Requirement already satisfied: google-api-core!=2.0.*,!=2.1.*,!=2.10.*,!=2.2.*,!=2.3.*,!=2.4.*,!=2.5.*,!=2.6.*,!=2.7.*,!=2.8.*,!=2.9.*,<3.0.0,>=1.34.1 in /usr/local/lib/python3.12/dist-packages (from google-api-core[grpc]!=2.0.*,!=2.1.*,!=2.10.*,!=2.2.*,!=2.3.*,!=2.4.*,!=2.5.*,!=2.6.*,!=2.7.*,!=2.8.*,!=2.9.*,<3.0.0,>=1.34.1->google-ai-generativelanguage<1,>=0.7->langchain-google-genai) (2.25.2)\n",
            "Requirement already satisfied: google-auth!=2.24.0,!=2.25.0,<3.0.0,>=2.14.1 in /usr/local/lib/python3.12/dist-packages (from google-ai-generativelanguage<1,>=0.7->langchain-google-genai) (2.38.0)\n",
            "Requirement already satisfied: proto-plus<2.0.0,>=1.22.3 in /usr/local/lib/python3.12/dist-packages (from google-ai-generativelanguage<1,>=0.7->langchain-google-genai) (1.26.1)\n",
            "Requirement already satisfied: protobuf!=4.21.0,!=4.21.1,!=4.21.2,!=4.21.3,!=4.21.4,!=4.21.5,<7.0.0,>=3.20.2 in /usr/local/lib/python3.12/dist-packages (from google-ai-generativelanguage<1,>=0.7->langchain-google-genai) (5.29.5)\n",
            "Requirement already satisfied: langsmith<1.0.0,>=0.3.45 in /usr/local/lib/python3.12/dist-packages (from langchain-core>=0.3.75->langchain-google-genai) (0.4.33)\n",
            "Requirement already satisfied: tenacity!=8.4.0,<10.0.0,>=8.1.0 in /usr/local/lib/python3.12/dist-packages (from langchain-core>=0.3.75->langchain-google-genai) (8.5.0)\n",
            "Requirement already satisfied: jsonpatch<2.0.0,>=1.33.0 in /usr/local/lib/python3.12/dist-packages (from langchain-core>=0.3.75->langchain-google-genai) (1.33)\n",
            "Requirement already satisfied: PyYAML<7.0.0,>=5.3.0 in /usr/local/lib/python3.12/dist-packages (from langchain-core>=0.3.75->langchain-google-genai) (6.0.3)\n",
            "Requirement already satisfied: typing-extensions<5.0.0,>=4.7.0 in /usr/local/lib/python3.12/dist-packages (from langchain-core>=0.3.75->langchain-google-genai) (4.15.0)\n",
            "Requirement already satisfied: packaging<26.0.0,>=23.2.0 in /usr/local/lib/python3.12/dist-packages (from langchain-core>=0.3.75->langchain-google-genai) (25.0)\n",
            "Requirement already satisfied: annotated-types>=0.6.0 in /usr/local/lib/python3.12/dist-packages (from pydantic<3,>=2->langchain-google-genai) (0.7.0)\n",
            "Requirement already satisfied: pydantic-core==2.33.2 in /usr/local/lib/python3.12/dist-packages (from pydantic<3,>=2->langchain-google-genai) (2.33.2)\n",
            "Requirement already satisfied: typing-inspection>=0.4.0 in /usr/local/lib/python3.12/dist-packages (from pydantic<3,>=2->langchain-google-genai) (0.4.2)\n",
            "Requirement already satisfied: googleapis-common-protos<2.0.0,>=1.56.2 in /usr/local/lib/python3.12/dist-packages (from google-api-core!=2.0.*,!=2.1.*,!=2.10.*,!=2.2.*,!=2.3.*,!=2.4.*,!=2.5.*,!=2.6.*,!=2.7.*,!=2.8.*,!=2.9.*,<3.0.0,>=1.34.1->google-api-core[grpc]!=2.0.*,!=2.1.*,!=2.10.*,!=2.2.*,!=2.3.*,!=2.4.*,!=2.5.*,!=2.6.*,!=2.7.*,!=2.8.*,!=2.9.*,<3.0.0,>=1.34.1->google-ai-generativelanguage<1,>=0.7->langchain-google-genai) (1.70.0)\n",
            "Requirement already satisfied: requests<3.0.0,>=2.18.0 in /usr/local/lib/python3.12/dist-packages (from google-api-core!=2.0.*,!=2.1.*,!=2.10.*,!=2.2.*,!=2.3.*,!=2.4.*,!=2.5.*,!=2.6.*,!=2.7.*,!=2.8.*,!=2.9.*,<3.0.0,>=1.34.1->google-api-core[grpc]!=2.0.*,!=2.1.*,!=2.10.*,!=2.2.*,!=2.3.*,!=2.4.*,!=2.5.*,!=2.6.*,!=2.7.*,!=2.8.*,!=2.9.*,<3.0.0,>=1.34.1->google-ai-generativelanguage<1,>=0.7->langchain-google-genai) (2.32.5)\n",
            "Requirement already satisfied: grpcio<2.0.0,>=1.33.2 in /usr/local/lib/python3.12/dist-packages (from google-api-core[grpc]!=2.0.*,!=2.1.*,!=2.10.*,!=2.2.*,!=2.3.*,!=2.4.*,!=2.5.*,!=2.6.*,!=2.7.*,!=2.8.*,!=2.9.*,<3.0.0,>=1.34.1->google-ai-generativelanguage<1,>=0.7->langchain-google-genai) (1.75.1)\n",
            "Requirement already satisfied: grpcio-status<2.0.0,>=1.33.2 in /usr/local/lib/python3.12/dist-packages (from google-api-core[grpc]!=2.0.*,!=2.1.*,!=2.10.*,!=2.2.*,!=2.3.*,!=2.4.*,!=2.5.*,!=2.6.*,!=2.7.*,!=2.8.*,!=2.9.*,<3.0.0,>=1.34.1->google-ai-generativelanguage<1,>=0.7->langchain-google-genai) (1.71.2)\n",
            "Requirement already satisfied: cachetools<6.0,>=2.0.0 in /usr/local/lib/python3.12/dist-packages (from google-auth!=2.24.0,!=2.25.0,<3.0.0,>=2.14.1->google-ai-generativelanguage<1,>=0.7->langchain-google-genai) (5.5.2)\n",
            "Requirement already satisfied: pyasn1-modules>=0.2.1 in /usr/local/lib/python3.12/dist-packages (from google-auth!=2.24.0,!=2.25.0,<3.0.0,>=2.14.1->google-ai-generativelanguage<1,>=0.7->langchain-google-genai) (0.4.2)\n",
            "Requirement already satisfied: rsa<5,>=3.1.4 in /usr/local/lib/python3.12/dist-packages (from google-auth!=2.24.0,!=2.25.0,<3.0.0,>=2.14.1->google-ai-generativelanguage<1,>=0.7->langchain-google-genai) (4.9.1)\n",
            "Requirement already satisfied: jsonpointer>=1.9 in /usr/local/lib/python3.12/dist-packages (from jsonpatch<2.0.0,>=1.33.0->langchain-core>=0.3.75->langchain-google-genai) (3.0.0)\n",
            "Requirement already satisfied: httpx<1,>=0.23.0 in /usr/local/lib/python3.12/dist-packages (from langsmith<1.0.0,>=0.3.45->langchain-core>=0.3.75->langchain-google-genai) (0.28.1)\n",
            "Requirement already satisfied: orjson>=3.9.14 in /usr/local/lib/python3.12/dist-packages (from langsmith<1.0.0,>=0.3.45->langchain-core>=0.3.75->langchain-google-genai) (3.11.3)\n",
            "Requirement already satisfied: requests-toolbelt>=1.0.0 in /usr/local/lib/python3.12/dist-packages (from langsmith<1.0.0,>=0.3.45->langchain-core>=0.3.75->langchain-google-genai) (1.0.0)\n",
            "Requirement already satisfied: zstandard>=0.23.0 in /usr/local/lib/python3.12/dist-packages (from langsmith<1.0.0,>=0.3.45->langchain-core>=0.3.75->langchain-google-genai) (0.25.0)\n",
            "Requirement already satisfied: anyio in /usr/local/lib/python3.12/dist-packages (from httpx<1,>=0.23.0->langsmith<1.0.0,>=0.3.45->langchain-core>=0.3.75->langchain-google-genai) (4.11.0)\n",
            "Requirement already satisfied: certifi in /usr/local/lib/python3.12/dist-packages (from httpx<1,>=0.23.0->langsmith<1.0.0,>=0.3.45->langchain-core>=0.3.75->langchain-google-genai) (2025.10.5)\n",
            "Requirement already satisfied: httpcore==1.* in /usr/local/lib/python3.12/dist-packages (from httpx<1,>=0.23.0->langsmith<1.0.0,>=0.3.45->langchain-core>=0.3.75->langchain-google-genai) (1.0.9)\n",
            "Requirement already satisfied: idna in /usr/local/lib/python3.12/dist-packages (from httpx<1,>=0.23.0->langsmith<1.0.0,>=0.3.45->langchain-core>=0.3.75->langchain-google-genai) (3.10)\n",
            "Requirement already satisfied: h11>=0.16 in /usr/local/lib/python3.12/dist-packages (from httpcore==1.*->httpx<1,>=0.23.0->langsmith<1.0.0,>=0.3.45->langchain-core>=0.3.75->langchain-google-genai) (0.16.0)\n",
            "Requirement already satisfied: pyasn1<0.7.0,>=0.6.1 in /usr/local/lib/python3.12/dist-packages (from pyasn1-modules>=0.2.1->google-auth!=2.24.0,!=2.25.0,<3.0.0,>=2.14.1->google-ai-generativelanguage<1,>=0.7->langchain-google-genai) (0.6.1)\n",
            "Requirement already satisfied: charset_normalizer<4,>=2 in /usr/local/lib/python3.12/dist-packages (from requests<3.0.0,>=2.18.0->google-api-core!=2.0.*,!=2.1.*,!=2.10.*,!=2.2.*,!=2.3.*,!=2.4.*,!=2.5.*,!=2.6.*,!=2.7.*,!=2.8.*,!=2.9.*,<3.0.0,>=1.34.1->google-api-core[grpc]!=2.0.*,!=2.1.*,!=2.10.*,!=2.2.*,!=2.3.*,!=2.4.*,!=2.5.*,!=2.6.*,!=2.7.*,!=2.8.*,!=2.9.*,<3.0.0,>=1.34.1->google-ai-generativelanguage<1,>=0.7->langchain-google-genai) (3.4.3)\n",
            "Requirement already satisfied: urllib3<3,>=1.21.1 in /usr/local/lib/python3.12/dist-packages (from requests<3.0.0,>=2.18.0->google-api-core!=2.0.*,!=2.1.*,!=2.10.*,!=2.2.*,!=2.3.*,!=2.4.*,!=2.5.*,!=2.6.*,!=2.7.*,!=2.8.*,!=2.9.*,<3.0.0,>=1.34.1->google-api-core[grpc]!=2.0.*,!=2.1.*,!=2.10.*,!=2.2.*,!=2.3.*,!=2.4.*,!=2.5.*,!=2.6.*,!=2.7.*,!=2.8.*,!=2.9.*,<3.0.0,>=1.34.1->google-ai-generativelanguage<1,>=0.7->langchain-google-genai) (2.3.0)\n",
            "Requirement already satisfied: sniffio>=1.1 in /usr/local/lib/python3.12/dist-packages (from anyio->httpx<1,>=0.23.0->langsmith<1.0.0,>=0.3.45->langchain-core>=0.3.75->langchain-google-genai) (1.3.1)\n"
          ]
        }
      ]
    },
    {
      "cell_type": "code",
      "source": [
        "from langchain_google_genai import ChatGoogleGenerativeAI\n",
        "\n",
        "llm = ChatGoogleGenerativeAI(\n",
        "    model=\"gemini-2.5-flash\",\n",
        "    temperature=0.1,\n",
        "    max_tokens=1024,\n",
        "    timeout=None,\n",
        "    max_retries=2,\n",
        "    # other params...\n",
        ")\n",
        "\n",
        "## Simple RAG Function : retrieve context + generate response\n",
        "def rag_simple(query,retriever,llm,top_k=3):\n",
        "    ## Retriver the context\n",
        "    results = retriever.retrieve(query,top_k=top_k)\n",
        "    context = \"\\n\\n\".join(doc['document'] for doc in results) if results else \"\"\n",
        "\n",
        "    if not context:\n",
        "        return \"No relevant documents found\"\n",
        "\n",
        "    ## generate the answer\n",
        "    prompt = f\"\"\"Use the following pieces of context to answer the question concisely.\n",
        "        Context :{context}\n",
        "        Question: {query}\n",
        "        Answer:\"\"\"\n",
        "\n",
        "\n",
        "    response = llm.invoke([prompt.format(context=context,query=query)])\n",
        "    return response.content"
      ],
      "metadata": {
        "id": "v88es36oHYsp"
      },
      "execution_count": null,
      "outputs": []
    },
    {
      "cell_type": "code",
      "source": [
        "ans = rag_simple(\"What is Object oriented programming?\",rag_retriever,llm)\n",
        "print(ans)"
      ],
      "metadata": {
        "colab": {
          "base_uri": "https://localhost:8080/",
          "height": 225,
          "referenced_widgets": [
            "f6982cb57c3149a8add316333e6b6099",
            "67d0a8fe0f5843d28810f352ab066c3d",
            "5c41ba62c9fc454a9814ec7d6f870cdd",
            "c03f84cd5e1f483cae23c5716e98c4b8",
            "e56054342d004c6c89d793068f2d4c34",
            "23c3527b4dc346c58fedbbeed0f20e21",
            "ab82ab874aee4924b0949a5069cdda27",
            "1a3a864150cb4f2caede91c60b6a2e67",
            "5a2e71043c29445dbe8127ea7f2328e9",
            "303542f8566d4fb097a5bc457001767f",
            "b6d9987deeb34a11beaaf6ed8390776a"
          ]
        },
        "id": "_3MgfGMbLGgC",
        "outputId": "dfea8ab8-a0d4-4f33-972e-b92caa243619"
      },
      "execution_count": null,
      "outputs": [
        {
          "output_type": "stream",
          "name": "stdout",
          "text": [
            "Retrieving relevent documents for query: What is Object oriented programming?\n",
            "Top_k: 3\n",
            "Score_threshold: 0.0\n",
            "Generating embeddings for 1 texts\n"
          ]
        },
        {
          "output_type": "display_data",
          "data": {
            "text/plain": [
              "Batches:   0%|          | 0/1 [00:00<?, ?it/s]"
            ],
            "application/vnd.jupyter.widget-view+json": {
              "version_major": 2,
              "version_minor": 0,
              "model_id": "f6982cb57c3149a8add316333e6b6099"
            }
          },
          "metadata": {}
        },
        {
          "output_type": "stream",
          "name": "stdout",
          "text": [
            "Generated Embedings with shape : (1, 384)\n",
            "Retrieved 1 documents (after filtering)\n",
            "Retrieved 2 documents (after filtering)\n",
            "Retrieved 2 documents (after filtering)\n",
            "Object-oriented programming (OOP) is a programming paradigm that structures programs using classes and objects, promoting code reusability through concepts such as inheritance, encapsulation, and polymorphism.\n"
          ]
        }
      ]
    },
    {
      "cell_type": "markdown",
      "source": [
        "### Enhanced RAG Features"
      ],
      "metadata": {
        "id": "V8eLOmhzLnJv"
      }
    },
    {
      "cell_type": "code",
      "source": [
        "# --- Enhanced RAG Pipeline Features ---\n",
        "def rag_advanced(query, retriever, llm, top_k=5, min_score=0.2, return_context=False):\n",
        "    \"\"\"\n",
        "    RAG pipeline with extra features:\n",
        "    - Returns answer, sources, confidence score, and optionally full context.\n",
        "    \"\"\"\n",
        "    results = retriever.retrieve(query, top_k=top_k, score_threshold=min_score)\n",
        "    if not results:\n",
        "        return {'answer': 'No relevant context found.', 'sources': [], 'confidence': 0.0, 'context': ''}\n",
        "\n",
        "    # Prepare context and sources\n",
        "    context = \"\\n\\n\".join([doc['content'] for doc in results])\n",
        "    sources = [{\n",
        "        'source': doc['metadata'].get('source_file', doc['metadata'].get('source', 'unknown')),\n",
        "        'page': doc['metadata'].get('page', 'unknown'),\n",
        "        'score': doc['similarity_score'],\n",
        "        'preview': doc['content'][:300] + '...'\n",
        "    } for doc in results]\n",
        "    confidence = max([doc['similarity_score'] for doc in results])\n",
        "\n",
        "    # Generate answer\n",
        "    prompt = f\"\"\"Use the following context to answer the question concisely.\\nContext:\\n{context}\\n\\nQuestion: {query}\\n\\nAnswer:\"\"\"\n",
        "    response = llm.invoke([prompt.format(context=context, query=query)])\n",
        "\n",
        "    output = {\n",
        "        'answer': response.content,\n",
        "        'sources': sources,\n",
        "        'confidence': confidence\n",
        "    }\n",
        "    if return_context:\n",
        "        output['context'] = context\n",
        "    return output\n",
        "\n",
        "# Example usage:\n",
        "result = rag_advanced(\"Hard Negative Mining Technqiues\", rag_retriever, llm, top_k=3, min_score=0.1, return_context=True)\n",
        "print(\"Answer:\", result['answer'])\n",
        "print(\"Sources:\", result['sources'])\n",
        "print(\"Confidence:\", result['confidence'])\n",
        "print(\"Context Preview:\", result['context'][:300])"
      ],
      "metadata": {
        "id": "_WFr3F38Lq_V"
      },
      "execution_count": null,
      "outputs": []
    },
    {
      "cell_type": "markdown",
      "source": [
        "## Enhanced RAG features p-2"
      ],
      "metadata": {
        "id": "0pQvgkPjL33L"
      }
    },
    {
      "cell_type": "code",
      "source": [
        "# --- Advanced RAG Pipeline: Streaming, Citations, History, Summarization ---\n",
        "from typing import List, Dict, Any\n",
        "import time\n",
        "\n",
        "class AdvancedRAGPipeline:\n",
        "    def __init__(self, retriever, llm):\n",
        "        self.retriever = retriever\n",
        "        self.llm = llm\n",
        "        self.history = []  # Store query history\n",
        "\n",
        "    def query(self, question: str, top_k: int = 5, min_score: float = 0.2, stream: bool = False, summarize: bool = False) -> Dict[str, Any]:\n",
        "        # Retrieve relevant documents\n",
        "        results = self.retriever.retrieve(question, top_k=top_k, score_threshold=min_score)\n",
        "        if not results:\n",
        "            answer = \"No relevant context found.\"\n",
        "            sources = []\n",
        "            context = \"\"\n",
        "        else:\n",
        "            context = \"\\n\\n\".join([doc['content'] for doc in results])\n",
        "            sources = [{\n",
        "                'source': doc['metadata'].get('source_file', doc['metadata'].get('source', 'unknown')),\n",
        "                'page': doc['metadata'].get('page', 'unknown'),\n",
        "                'score': doc['similarity_score'],\n",
        "                'preview': doc['content'][:120] + '...'\n",
        "            } for doc in results]\n",
        "            # Streaming answer simulation\n",
        "            prompt = f\"\"\"Use the following context to answer the question concisely.\\nContext:\\n{context}\\n\\nQuestion: {question}\\n\\nAnswer:\"\"\"\n",
        "            if stream:\n",
        "                print(\"Streaming answer:\")\n",
        "                for i in range(0, len(prompt), 80):\n",
        "                    print(prompt[i:i+80], end='', flush=True)\n",
        "                    time.sleep(0.05)\n",
        "                print()\n",
        "            response = self.llm.invoke([prompt.format(context=context, question=question)])\n",
        "            answer = response.content\n",
        "\n",
        "        # Add citations to answer\n",
        "        citations = [f\"[{i+1}] {src['source']} (page {src['page']})\" for i, src in enumerate(sources)]\n",
        "        answer_with_citations = answer + \"\\n\\nCitations:\\n\" + \"\\n\".join(citations) if citations else answer\n",
        "\n",
        "        # Optionally summarize answer\n",
        "        summary = None\n",
        "        if summarize and answer:\n",
        "            summary_prompt = f\"Summarize the following answer in 2 sentences:\\n{answer}\"\n",
        "            summary_resp = self.llm.invoke([summary_prompt])\n",
        "            summary = summary_resp.content\n",
        "\n",
        "        # Store query history\n",
        "        self.history.append({\n",
        "            'question': question,\n",
        "            'answer': answer,\n",
        "            'sources': sources,\n",
        "            'summary': summary\n",
        "        })\n",
        "\n",
        "        return {\n",
        "            'question': question,\n",
        "            'answer': answer_with_citations,\n",
        "            'sources': sources,\n",
        "            'summary': summary,\n",
        "            'history': self.history\n",
        "        }\n",
        "\n",
        "# Example usage:\n",
        "adv_rag = AdvancedRAGPipeline(rag_retriever, llm)\n",
        "result = adv_rag.query(\"what is attention is all you need\", top_k=3, min_score=0.1, stream=True, summarize=True)\n",
        "print(\"\\nFinal Answer:\", result['answer'])\n",
        "print(\"Summary:\", result['summary'])\n",
        "print(\"History:\", result['history'][-1])"
      ],
      "metadata": {
        "id": "rc5O2RY8L8Ys"
      },
      "execution_count": null,
      "outputs": []
    }
  ]
}
